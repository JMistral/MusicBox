{
 "cells": [
  {
   "cell_type": "code",
   "execution_count": 1,
   "metadata": {},
   "outputs": [],
   "source": [
    "import pandas as pd\n",
    "import matplotlib.pyplot as plt\n",
    "import numpy as np"
   ]
  },
  {
   "cell_type": "code",
   "execution_count": 2,
   "metadata": {},
   "outputs": [],
   "source": [
    "df_play = pd.read_json('../data/sampled_playlog.json/part-00000-badae413-8a2b-46ea-9ce7-c83aaa3fa0f5-c000.json'\n",
    "                          ,lines=True)"
   ]
  },
  {
   "cell_type": "code",
   "execution_count": 3,
   "metadata": {},
   "outputs": [
    {
     "data": {
      "text/html": [
       "<div>\n",
       "<style scoped>\n",
       "    .dataframe tbody tr th:only-of-type {\n",
       "        vertical-align: middle;\n",
       "    }\n",
       "\n",
       "    .dataframe tbody tr th {\n",
       "        vertical-align: top;\n",
       "    }\n",
       "\n",
       "    .dataframe thead th {\n",
       "        text-align: right;\n",
       "    }\n",
       "</style>\n",
       "<table border=\"1\" class=\"dataframe\">\n",
       "  <thead>\n",
       "    <tr style=\"text-align: right;\">\n",
       "      <th></th>\n",
       "      <th>date</th>\n",
       "      <th>device</th>\n",
       "      <th>fn</th>\n",
       "      <th>play_time</th>\n",
       "      <th>song_id</th>\n",
       "      <th>song_length</th>\n",
       "      <th>uid</th>\n",
       "    </tr>\n",
       "  </thead>\n",
       "  <tbody>\n",
       "    <tr>\n",
       "      <th>0</th>\n",
       "      <td>2017-03-01</td>\n",
       "      <td>ar</td>\n",
       "      <td>20170301_play.log</td>\n",
       "      <td>139</td>\n",
       "      <td>1967689.0</td>\n",
       "      <td>275.0</td>\n",
       "      <td>154421168.0</td>\n",
       "    </tr>\n",
       "    <tr>\n",
       "      <th>1</th>\n",
       "      <td>2017-03-01</td>\n",
       "      <td>ar</td>\n",
       "      <td>20170301_play.log</td>\n",
       "      <td>261</td>\n",
       "      <td>6468891.0</td>\n",
       "      <td>261.0</td>\n",
       "      <td>154422592.0</td>\n",
       "    </tr>\n",
       "    <tr>\n",
       "      <th>2</th>\n",
       "      <td>2017-03-01</td>\n",
       "      <td>ar</td>\n",
       "      <td>20170301_play.log</td>\n",
       "      <td>332</td>\n",
       "      <td>20870993.0</td>\n",
       "      <td>332.0</td>\n",
       "      <td>154422592.0</td>\n",
       "    </tr>\n",
       "    <tr>\n",
       "      <th>3</th>\n",
       "      <td>2017-03-01</td>\n",
       "      <td>ar</td>\n",
       "      <td>20170301_play.log</td>\n",
       "      <td>86</td>\n",
       "      <td>1691087.0</td>\n",
       "      <td>358.0</td>\n",
       "      <td>154416928.0</td>\n",
       "    </tr>\n",
       "    <tr>\n",
       "      <th>4</th>\n",
       "      <td>2017-03-01</td>\n",
       "      <td>ip</td>\n",
       "      <td>20170301_play.log</td>\n",
       "      <td>4</td>\n",
       "      <td>7153193.0</td>\n",
       "      <td>256.0</td>\n",
       "      <td>154421664.0</td>\n",
       "    </tr>\n",
       "  </tbody>\n",
       "</table>\n",
       "</div>"
      ],
      "text/plain": [
       "        date device                  fn play_time     song_id  song_length  \\\n",
       "0 2017-03-01     ar   20170301_play.log      139    1967689.0        275.0   \n",
       "1 2017-03-01     ar   20170301_play.log      261    6468891.0        261.0   \n",
       "2 2017-03-01     ar   20170301_play.log      332   20870993.0        332.0   \n",
       "3 2017-03-01     ar   20170301_play.log       86    1691087.0        358.0   \n",
       "4 2017-03-01     ip   20170301_play.log        4    7153193.0        256.0   \n",
       "\n",
       "           uid  \n",
       "0  154421168.0  \n",
       "1  154422592.0  \n",
       "2  154422592.0  \n",
       "3  154416928.0  \n",
       "4  154421664.0  "
      ]
     },
     "execution_count": 3,
     "metadata": {},
     "output_type": "execute_result"
    }
   ],
   "source": [
    "df_play.head(5)"
   ]
  },
  {
   "cell_type": "code",
   "execution_count": 13,
   "metadata": {},
   "outputs": [],
   "source": [
    "def play_time(x):\n",
    "    try:\n",
    "        x_ = int(x)\n",
    "    except:\n",
    "        x_ = np.nan\n",
    "    return x_\n",
    "\n",
    "df_play['play_time'] = df_play['play_time'].apply(play_time)"
   ]
  },
  {
   "cell_type": "code",
   "execution_count": 8,
   "metadata": {},
   "outputs": [
    {
     "data": {
      "text/plain": [
       "array(['139 ', '261 ', '332 ', ..., '0', '0', '191'], dtype=object)"
      ]
     },
     "execution_count": 8,
     "metadata": {},
     "output_type": "execute_result"
    }
   ],
   "source": [
    "def song_length(x):\n",
    "    try:\n",
    "        x_ = int(x)\n",
    "    except:\n",
    "        x_ = np.nan\n",
    "    return x_\n",
    "\n",
    "df_play['song_length'] = df_play['song_length'].apply(song_length)"
   ]
  },
  {
   "cell_type": "code",
   "execution_count": null,
   "metadata": {},
   "outputs": [],
   "source": []
  }
 ],
 "metadata": {
  "kernelspec": {
   "display_name": "Python 3",
   "language": "python",
   "name": "python3"
  },
  "language_info": {
   "codemirror_mode": {
    "name": "ipython",
    "version": 3
   },
   "file_extension": ".py",
   "mimetype": "text/x-python",
   "name": "python",
   "nbconvert_exporter": "python",
   "pygments_lexer": "ipython3",
   "version": "3.6.4"
  }
 },
 "nbformat": 4,
 "nbformat_minor": 2
}
