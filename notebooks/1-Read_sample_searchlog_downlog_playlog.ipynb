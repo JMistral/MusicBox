{
 "cells": [
  {
   "cell_type": "code",
   "execution_count": 1,
   "metadata": {},
   "outputs": [],
   "source": [
    "from pyspark.sql import SparkSession\n",
    "from pyspark.sql import Row\n",
    "from pyspark.sql import functions\n",
    "from pyspark.sql.types import *\n",
    "from pyspark.sql.functions import *\n",
    "\n",
    "import pandas as pd\n",
    "import matplotlib.pyplot as plt\n",
    "import numpy as np"
   ]
  },
  {
   "cell_type": "code",
   "execution_count": 2,
   "metadata": {},
   "outputs": [],
   "source": [
    "#Create a SparkSession\n",
    "spark = SparkSession.builder.appName(\"combine\").getOrCreate()"
   ]
  },
  {
   "cell_type": "markdown",
   "metadata": {},
   "source": [
    "# Parse Download log file and save it to csv"
   ]
  },
  {
   "cell_type": "code",
   "execution_count": 3,
   "metadata": {},
   "outputs": [],
   "source": [
    "lines = spark.sparkContext.textFile(\"../data/all_down.log.fn\")"
   ]
  },
  {
   "cell_type": "code",
   "execution_count": 4,
   "metadata": {},
   "outputs": [],
   "source": [
    "def parseLineDown(line):\n",
    "    fields = line.split(\"\\t\")\n",
    "    if len(fields) == 7:\n",
    "        try: \n",
    "            uid = str(fields[0])\n",
    "            song_id = str(fields[2])\n",
    "            song_name = str(fields[3])\n",
    "            file_name = str(fields[6])\n",
    "            return Row(uid, song_id, song_name, file_name)\n",
    "        except:\n",
    "            return -1\n",
    "    else:\n",
    "        return -1"
   ]
  },
  {
   "cell_type": "code",
   "execution_count": 5,
   "metadata": {},
   "outputs": [],
   "source": [
    "schema_down = StructType([StructField('uid', StringType(), False),\n",
    "                          StructField('song_id_down', StringType(), False),\n",
    "                          StructField('song_name_down', StringType(), False),\n",
    "                          StructField('file_name', StringType(), True),])"
   ]
  },
  {
   "cell_type": "code",
   "execution_count": 7,
   "metadata": {},
   "outputs": [],
   "source": [
    "# Parse download log \n",
    "down = lines.map(parseLineDown).filter(lambda x: x!=-1)"
   ]
  },
  {
   "cell_type": "code",
   "execution_count": 8,
   "metadata": {},
   "outputs": [
    {
     "data": {
      "text/html": [
       "<div>\n",
       "<style scoped>\n",
       "    .dataframe tbody tr th:only-of-type {\n",
       "        vertical-align: middle;\n",
       "    }\n",
       "\n",
       "    .dataframe tbody tr th {\n",
       "        vertical-align: top;\n",
       "    }\n",
       "\n",
       "    .dataframe thead th {\n",
       "        text-align: right;\n",
       "    }\n",
       "</style>\n",
       "<table border=\"1\" class=\"dataframe\">\n",
       "  <thead>\n",
       "    <tr style=\"text-align: right;\">\n",
       "      <th></th>\n",
       "      <th>uid</th>\n",
       "      <th>song_id_down</th>\n",
       "      <th>song_name_down</th>\n",
       "      <th>file_name</th>\n",
       "    </tr>\n",
       "  </thead>\n",
       "  <tbody>\n",
       "    <tr>\n",
       "      <th>0</th>\n",
       "      <td>168019810</td>\n",
       "      <td>442554</td>\n",
       "      <td>小酒窝</td>\n",
       "      <td>20170330_1_down.log</td>\n",
       "    </tr>\n",
       "    <tr>\n",
       "      <th>1</th>\n",
       "      <td>168019810</td>\n",
       "      <td>6334611</td>\n",
       "      <td>社会摇</td>\n",
       "      <td>20170330_1_down.log</td>\n",
       "    </tr>\n",
       "    <tr>\n",
       "      <th>2</th>\n",
       "      <td>168019810</td>\n",
       "      <td>9867382</td>\n",
       "      <td>台阶</td>\n",
       "      <td>20170330_1_down.log</td>\n",
       "    </tr>\n",
       "    <tr>\n",
       "      <th>3</th>\n",
       "      <td>168019810</td>\n",
       "      <td>6660691</td>\n",
       "      <td>一次就好-(电影《夏洛特烦恼》暖水曲)</td>\n",
       "      <td>20170330_1_down.log</td>\n",
       "    </tr>\n",
       "    <tr>\n",
       "      <th>4</th>\n",
       "      <td>168019810</td>\n",
       "      <td>157606</td>\n",
       "      <td>一路上有你</td>\n",
       "      <td>20170330_1_down.log</td>\n",
       "    </tr>\n",
       "  </tbody>\n",
       "</table>\n",
       "</div>"
      ],
      "text/plain": [
       "          uid song_id_down        song_name_down             file_name\n",
       "0  168019810       442554                   小酒窝    20170330_1_down.log\n",
       "1  168019810      6334611                   社会摇    20170330_1_down.log\n",
       "2  168019810      9867382                    台阶    20170330_1_down.log\n",
       "3  168019810      6660691   一次就好-(电影《夏洛特烦恼》暖水曲)    20170330_1_down.log\n",
       "4  168019810       157606                 一路上有你    20170330_1_down.log"
      ]
     },
     "execution_count": 8,
     "metadata": {},
     "output_type": "execute_result"
    }
   ],
   "source": [
    "down_df = spark.createDataFrame(down, schema_down)\n",
    "pd.DataFrame(down_df.take(5), columns=down_df.columns)"
   ]
  },
  {
   "cell_type": "code",
   "execution_count": 9,
   "metadata": {},
   "outputs": [],
   "source": [
    "down_df_2 = down_df.withColumn('date_str', trim(down_df.file_name.substr(1,9))) \\\n",
    "                   .withColumn(\"unix_date\", unix_timestamp('date_str', 'yyyyMMdd')) \\\n",
    "                   .withColumn(\"date_down\", from_unixtime('unix_date').cast(DateType())) \\\n",
    "                   .drop('date_str') \\\n",
    "                   .drop('unix_date') \\\n",
    "                   .drop('file_name') \\\n",
    "                   .dropna(how='any', subset=['song_id_down'])"
   ]
  },
  {
   "cell_type": "code",
   "execution_count": 10,
   "metadata": {},
   "outputs": [
    {
     "data": {
      "text/html": [
       "<div>\n",
       "<style scoped>\n",
       "    .dataframe tbody tr th:only-of-type {\n",
       "        vertical-align: middle;\n",
       "    }\n",
       "\n",
       "    .dataframe tbody tr th {\n",
       "        vertical-align: top;\n",
       "    }\n",
       "\n",
       "    .dataframe thead th {\n",
       "        text-align: right;\n",
       "    }\n",
       "</style>\n",
       "<table border=\"1\" class=\"dataframe\">\n",
       "  <thead>\n",
       "    <tr style=\"text-align: right;\">\n",
       "      <th></th>\n",
       "      <th>uid</th>\n",
       "      <th>song_id_down</th>\n",
       "      <th>song_name_down</th>\n",
       "      <th>date_down</th>\n",
       "    </tr>\n",
       "  </thead>\n",
       "  <tbody>\n",
       "    <tr>\n",
       "      <th>0</th>\n",
       "      <td>168019810</td>\n",
       "      <td>442554</td>\n",
       "      <td>小酒窝</td>\n",
       "      <td>2017-03-30</td>\n",
       "    </tr>\n",
       "    <tr>\n",
       "      <th>1</th>\n",
       "      <td>168019810</td>\n",
       "      <td>6334611</td>\n",
       "      <td>社会摇</td>\n",
       "      <td>2017-03-30</td>\n",
       "    </tr>\n",
       "    <tr>\n",
       "      <th>2</th>\n",
       "      <td>168019810</td>\n",
       "      <td>9867382</td>\n",
       "      <td>台阶</td>\n",
       "      <td>2017-03-30</td>\n",
       "    </tr>\n",
       "    <tr>\n",
       "      <th>3</th>\n",
       "      <td>168019810</td>\n",
       "      <td>6660691</td>\n",
       "      <td>一次就好-(电影《夏洛特烦恼》暖水曲)</td>\n",
       "      <td>2017-03-30</td>\n",
       "    </tr>\n",
       "    <tr>\n",
       "      <th>4</th>\n",
       "      <td>168019810</td>\n",
       "      <td>157606</td>\n",
       "      <td>一路上有你</td>\n",
       "      <td>2017-03-30</td>\n",
       "    </tr>\n",
       "  </tbody>\n",
       "</table>\n",
       "</div>"
      ],
      "text/plain": [
       "          uid song_id_down        song_name_down   date_down\n",
       "0  168019810       442554                   小酒窝   2017-03-30\n",
       "1  168019810      6334611                   社会摇   2017-03-30\n",
       "2  168019810      9867382                    台阶   2017-03-30\n",
       "3  168019810      6660691   一次就好-(电影《夏洛特烦恼》暖水曲)   2017-03-30\n",
       "4  168019810       157606                 一路上有你   2017-03-30"
      ]
     },
     "execution_count": 10,
     "metadata": {},
     "output_type": "execute_result"
    }
   ],
   "source": [
    "pd.DataFrame(down_df_2.take(5), columns=down_df_2.columns)"
   ]
  },
  {
   "cell_type": "code",
   "execution_count": 12,
   "metadata": {},
   "outputs": [],
   "source": [
    "# write download log of all dates to csv, for future usage\n",
    "down_df_2.repartition(1).write.csv('../data/all_down', header=True)"
   ]
  },
  {
   "cell_type": "markdown",
   "metadata": {},
   "source": [
    "# Parse search log file and save to csv"
   ]
  },
  {
   "cell_type": "code",
   "execution_count": 14,
   "metadata": {},
   "outputs": [],
   "source": [
    "lines2 = spark.sparkContext.textFile(\"../data/all_search.log.fn\")"
   ]
  },
  {
   "cell_type": "code",
   "execution_count": 15,
   "metadata": {},
   "outputs": [],
   "source": [
    "def parseLineSearch(line):\n",
    "    fields = line.split(\"\\t\")\n",
    "    if len(fields) == 5:\n",
    "        try:\n",
    "            uid = float(fields[0])\n",
    "            date_str = str(fields[2])\n",
    "            search_query = str(fields[3])\n",
    "            return Row(uid, date_str, search_query)\n",
    "        \n",
    "        except:\n",
    "            return -1\n",
    "    else:\n",
    "            return -1"
   ]
  },
  {
   "cell_type": "code",
   "execution_count": 16,
   "metadata": {},
   "outputs": [],
   "source": [
    "schema_search = StructType([StructField('uid', FloatType(), False),\n",
    "                            StructField('search_date_str', StringType(), False),\n",
    "                            StructField('search_query', StringType(), False)])"
   ]
  },
  {
   "cell_type": "code",
   "execution_count": 17,
   "metadata": {},
   "outputs": [],
   "source": [
    "search = lines2.map(parseLineSearch).filter(lambda x: x!=-1).filter(lambda x: len(x) == len(schema_search))"
   ]
  },
  {
   "cell_type": "code",
   "execution_count": 18,
   "metadata": {},
   "outputs": [],
   "source": [
    "search_df = spark.createDataFrame(search, schema_search).dropna()"
   ]
  },
  {
   "cell_type": "code",
   "execution_count": 19,
   "metadata": {},
   "outputs": [
    {
     "data": {
      "text/html": [
       "<div>\n",
       "<style scoped>\n",
       "    .dataframe tbody tr th:only-of-type {\n",
       "        vertical-align: middle;\n",
       "    }\n",
       "\n",
       "    .dataframe tbody tr th {\n",
       "        vertical-align: top;\n",
       "    }\n",
       "\n",
       "    .dataframe thead th {\n",
       "        text-align: right;\n",
       "    }\n",
       "</style>\n",
       "<table border=\"1\" class=\"dataframe\">\n",
       "  <thead>\n",
       "    <tr style=\"text-align: right;\">\n",
       "      <th></th>\n",
       "      <th>uid</th>\n",
       "      <th>search_date_str</th>\n",
       "      <th>search_query</th>\n",
       "    </tr>\n",
       "  </thead>\n",
       "  <tbody>\n",
       "    <tr>\n",
       "      <th>0</th>\n",
       "      <td>154436640.0</td>\n",
       "      <td>2017-03-01 00:00:24</td>\n",
       "      <td>%e9%83%ad%e5%be%b7%e7%ba%b2</td>\n",
       "    </tr>\n",
       "    <tr>\n",
       "      <th>1</th>\n",
       "      <td>154407264.0</td>\n",
       "      <td>2017-03-01 00:00:53</td>\n",
       "      <td>%E6%AF%AF%E5%AD%90%E8%88%9E</td>\n",
       "    </tr>\n",
       "    <tr>\n",
       "      <th>2</th>\n",
       "      <td>154407856.0</td>\n",
       "      <td>2017-03-01 00:00:54</td>\n",
       "      <td>%e7%96%a4%2d%20%28%e7%94%b5%e8%a7%86%e5%89%a7%...</td>\n",
       "    </tr>\n",
       "    <tr>\n",
       "      <th>3</th>\n",
       "      <td>154407248.0</td>\n",
       "      <td>2017-03-01 00:00:55</td>\n",
       "      <td>%E6%88%91%E8%A6%81%E5%88%9B%E4%B8%9A++%E5%94%9...</td>\n",
       "    </tr>\n",
       "    <tr>\n",
       "      <th>4</th>\n",
       "      <td>154407328.0</td>\n",
       "      <td>2017-03-01 00:00:55</td>\n",
       "      <td>%E4%B8%AB%E5%A4%B4++%E7%8E%8B%E7%AB%A5%E8%AF%AD</td>\n",
       "    </tr>\n",
       "  </tbody>\n",
       "</table>\n",
       "</div>"
      ],
      "text/plain": [
       "           uid       search_date_str  \\\n",
       "0  154436640.0  2017-03-01 00:00:24    \n",
       "1  154407264.0  2017-03-01 00:00:53    \n",
       "2  154407856.0  2017-03-01 00:00:54    \n",
       "3  154407248.0  2017-03-01 00:00:55    \n",
       "4  154407328.0  2017-03-01 00:00:55    \n",
       "\n",
       "                                        search_query  \n",
       "0                       %e9%83%ad%e5%be%b7%e7%ba%b2   \n",
       "1                       %E6%AF%AF%E5%AD%90%E8%88%9E   \n",
       "2  %e7%96%a4%2d%20%28%e7%94%b5%e8%a7%86%e5%89%a7%...  \n",
       "3  %E6%88%91%E8%A6%81%E5%88%9B%E4%B8%9A++%E5%94%9...  \n",
       "4   %E4%B8%AB%E5%A4%B4++%E7%8E%8B%E7%AB%A5%E8%AF%AD   "
      ]
     },
     "execution_count": 19,
     "metadata": {},
     "output_type": "execute_result"
    }
   ],
   "source": [
    "pd.DataFrame(search_df.take(5), columns=search_df.columns)"
   ]
  },
  {
   "cell_type": "code",
   "execution_count": 20,
   "metadata": {},
   "outputs": [],
   "source": [
    "search_df.repartition(1).write.csv(\"../data/all_search\", header=True)"
   ]
  },
  {
   "cell_type": "markdown",
   "metadata": {},
   "source": [
    "# Read sampled play log and join three tables"
   ]
  },
  {
   "cell_type": "markdown",
   "metadata": {},
   "source": [
    "### retrieve the sampled uid"
   ]
  },
  {
   "cell_type": "code",
   "execution_count": 56,
   "metadata": {},
   "outputs": [],
   "source": [
    "sample_log = spark.read.json('../data/sample_playlog.json')"
   ]
  },
  {
   "cell_type": "code",
   "execution_count": 57,
   "metadata": {},
   "outputs": [
    {
     "data": {
      "text/html": [
       "<div>\n",
       "<style scoped>\n",
       "    .dataframe tbody tr th:only-of-type {\n",
       "        vertical-align: middle;\n",
       "    }\n",
       "\n",
       "    .dataframe tbody tr th {\n",
       "        vertical-align: top;\n",
       "    }\n",
       "\n",
       "    .dataframe thead th {\n",
       "        text-align: right;\n",
       "    }\n",
       "</style>\n",
       "<table border=\"1\" class=\"dataframe\">\n",
       "  <thead>\n",
       "    <tr style=\"text-align: right;\">\n",
       "      <th></th>\n",
       "      <th>date</th>\n",
       "      <th>device</th>\n",
       "      <th>fn</th>\n",
       "      <th>play_time</th>\n",
       "      <th>song_id</th>\n",
       "      <th>song_length</th>\n",
       "      <th>uid</th>\n",
       "    </tr>\n",
       "  </thead>\n",
       "  <tbody>\n",
       "    <tr>\n",
       "      <th>0</th>\n",
       "      <td>2017-03-01</td>\n",
       "      <td>ar</td>\n",
       "      <td>20170301_play.log</td>\n",
       "      <td>139</td>\n",
       "      <td>1967689</td>\n",
       "      <td>275.0</td>\n",
       "      <td>154421168.0</td>\n",
       "    </tr>\n",
       "    <tr>\n",
       "      <th>1</th>\n",
       "      <td>2017-03-01</td>\n",
       "      <td>ar</td>\n",
       "      <td>20170301_play.log</td>\n",
       "      <td>261</td>\n",
       "      <td>6468891</td>\n",
       "      <td>261.0</td>\n",
       "      <td>154422592.0</td>\n",
       "    </tr>\n",
       "    <tr>\n",
       "      <th>2</th>\n",
       "      <td>2017-03-01</td>\n",
       "      <td>ar</td>\n",
       "      <td>20170301_play.log</td>\n",
       "      <td>332</td>\n",
       "      <td>20870993</td>\n",
       "      <td>332.0</td>\n",
       "      <td>154422592.0</td>\n",
       "    </tr>\n",
       "    <tr>\n",
       "      <th>3</th>\n",
       "      <td>2017-03-01</td>\n",
       "      <td>ar</td>\n",
       "      <td>20170301_play.log</td>\n",
       "      <td>86</td>\n",
       "      <td>1691087</td>\n",
       "      <td>358.0</td>\n",
       "      <td>154416928.0</td>\n",
       "    </tr>\n",
       "    <tr>\n",
       "      <th>4</th>\n",
       "      <td>2017-03-01</td>\n",
       "      <td>ip</td>\n",
       "      <td>20170301_play.log</td>\n",
       "      <td>4</td>\n",
       "      <td>7153193</td>\n",
       "      <td>256.0</td>\n",
       "      <td>154421664.0</td>\n",
       "    </tr>\n",
       "  </tbody>\n",
       "</table>\n",
       "</div>"
      ],
      "text/plain": [
       "         date device                  fn play_time    song_id  song_length  \\\n",
       "0  2017-03-01     ar   20170301_play.log      139    1967689         275.0   \n",
       "1  2017-03-01     ar   20170301_play.log      261    6468891         261.0   \n",
       "2  2017-03-01     ar   20170301_play.log      332   20870993         332.0   \n",
       "3  2017-03-01     ar   20170301_play.log       86    1691087         358.0   \n",
       "4  2017-03-01     ip   20170301_play.log        4    7153193         256.0   \n",
       "\n",
       "           uid  \n",
       "0  154421168.0  \n",
       "1  154422592.0  \n",
       "2  154422592.0  \n",
       "3  154416928.0  \n",
       "4  154421664.0  "
      ]
     },
     "execution_count": 57,
     "metadata": {},
     "output_type": "execute_result"
    }
   ],
   "source": [
    "pd.DataFrame(sample_log.take(5), columns=sample_log.columns)"
   ]
  },
  {
   "cell_type": "code",
   "execution_count": 60,
   "metadata": {},
   "outputs": [],
   "source": [
    "sample_down = down_df_2.join(sample_log.select('uid').distinct().collect() , )"
   ]
  },
  {
   "cell_type": "code",
   "execution_count": 61,
   "metadata": {},
   "outputs": [
    {
     "data": {
      "text/html": [
       "<div>\n",
       "<style scoped>\n",
       "    .dataframe tbody tr th:only-of-type {\n",
       "        vertical-align: middle;\n",
       "    }\n",
       "\n",
       "    .dataframe tbody tr th {\n",
       "        vertical-align: top;\n",
       "    }\n",
       "\n",
       "    .dataframe thead th {\n",
       "        text-align: right;\n",
       "    }\n",
       "</style>\n",
       "<table border=\"1\" class=\"dataframe\">\n",
       "  <thead>\n",
       "    <tr style=\"text-align: right;\">\n",
       "      <th></th>\n",
       "      <th>date</th>\n",
       "      <th>device</th>\n",
       "      <th>fn</th>\n",
       "      <th>play_time</th>\n",
       "      <th>song_id</th>\n",
       "      <th>song_length</th>\n",
       "      <th>uid</th>\n",
       "      <th>uid</th>\n",
       "      <th>song_id_down</th>\n",
       "      <th>song_name_down</th>\n",
       "      <th>date_down</th>\n",
       "    </tr>\n",
       "  </thead>\n",
       "  <tbody>\n",
       "    <tr>\n",
       "      <th>0</th>\n",
       "      <td>2017-03-31</td>\n",
       "      <td>ar</td>\n",
       "      <td>20170331_2_play.log</td>\n",
       "      <td>148</td>\n",
       "      <td>6485492</td>\n",
       "      <td>259.0</td>\n",
       "      <td>4550267.0</td>\n",
       "      <td>4550267</td>\n",
       "      <td>6196608</td>\n",
       "      <td>为爱付出</td>\n",
       "      <td>2017-03-31</td>\n",
       "    </tr>\n",
       "    <tr>\n",
       "      <th>1</th>\n",
       "      <td>2017-03-31</td>\n",
       "      <td>ar</td>\n",
       "      <td>20170331_2_play.log</td>\n",
       "      <td>148</td>\n",
       "      <td>6485492</td>\n",
       "      <td>259.0</td>\n",
       "      <td>4550267.0</td>\n",
       "      <td>4550267</td>\n",
       "      <td>6485492</td>\n",
       "      <td>分手</td>\n",
       "      <td>2017-03-31</td>\n",
       "    </tr>\n",
       "    <tr>\n",
       "      <th>2</th>\n",
       "      <td>2017-03-31</td>\n",
       "      <td>ar</td>\n",
       "      <td>20170331_2_play.log</td>\n",
       "      <td>148</td>\n",
       "      <td>6485492</td>\n",
       "      <td>259.0</td>\n",
       "      <td>4550267.0</td>\n",
       "      <td>4550267</td>\n",
       "      <td>859133</td>\n",
       "      <td>假情真爱</td>\n",
       "      <td>2017-03-31</td>\n",
       "    </tr>\n",
       "    <tr>\n",
       "      <th>3</th>\n",
       "      <td>2017-03-31</td>\n",
       "      <td>ar</td>\n",
       "      <td>20170331_2_play.log</td>\n",
       "      <td>237</td>\n",
       "      <td>859133</td>\n",
       "      <td>237.0</td>\n",
       "      <td>4550267.0</td>\n",
       "      <td>4550267</td>\n",
       "      <td>6196608</td>\n",
       "      <td>为爱付出</td>\n",
       "      <td>2017-03-31</td>\n",
       "    </tr>\n",
       "    <tr>\n",
       "      <th>4</th>\n",
       "      <td>2017-03-31</td>\n",
       "      <td>ar</td>\n",
       "      <td>20170331_2_play.log</td>\n",
       "      <td>237</td>\n",
       "      <td>859133</td>\n",
       "      <td>237.0</td>\n",
       "      <td>4550267.0</td>\n",
       "      <td>4550267</td>\n",
       "      <td>6485492</td>\n",
       "      <td>分手</td>\n",
       "      <td>2017-03-31</td>\n",
       "    </tr>\n",
       "  </tbody>\n",
       "</table>\n",
       "</div>"
      ],
      "text/plain": [
       "         date device                    fn play_time  song_id  song_length  \\\n",
       "0  2017-03-31     ar   20170331_2_play.log       148  6485492        259.0   \n",
       "1  2017-03-31     ar   20170331_2_play.log       148  6485492        259.0   \n",
       "2  2017-03-31     ar   20170331_2_play.log       148  6485492        259.0   \n",
       "3  2017-03-31     ar   20170331_2_play.log       237   859133        237.0   \n",
       "4  2017-03-31     ar   20170331_2_play.log       237   859133        237.0   \n",
       "\n",
       "         uid      uid song_id_down song_name_down   date_down  \n",
       "0  4550267.0  4550267      6196608           为爱付出  2017-03-31  \n",
       "1  4550267.0  4550267      6485492             分手  2017-03-31  \n",
       "2  4550267.0  4550267       859133           假情真爱  2017-03-31  \n",
       "3  4550267.0  4550267      6196608           为爱付出  2017-03-31  \n",
       "4  4550267.0  4550267      6485492             分手  2017-03-31  "
      ]
     },
     "execution_count": 61,
     "metadata": {},
     "output_type": "execute_result"
    }
   ],
   "source": [
    "pd.DataFrame(sample_play_down.take(5), columns=sample_play_down.columns)"
   ]
  },
  {
   "cell_type": "code",
   "execution_count": 69,
   "metadata": {},
   "outputs": [
    {
     "data": {
      "text/plain": [
       "[154409200.0, 154456816.0, 154504752.0]"
      ]
     },
     "execution_count": 69,
     "metadata": {},
     "output_type": "execute_result"
    }
   ],
   "source": [
    "sampled_uid = [i.uid for i in sample_log.select('uid').distinct().collect()]\n",
    "sampled_uid[:3]"
   ]
  },
  {
   "cell_type": "markdown",
   "metadata": {},
   "source": [
    "### Save sampled download log file"
   ]
  },
  {
   "cell_type": "code",
   "execution_count": 73,
   "metadata": {},
   "outputs": [
    {
     "data": {
      "text/html": [
       "<div>\n",
       "<style scoped>\n",
       "    .dataframe tbody tr th:only-of-type {\n",
       "        vertical-align: middle;\n",
       "    }\n",
       "\n",
       "    .dataframe tbody tr th {\n",
       "        vertical-align: top;\n",
       "    }\n",
       "\n",
       "    .dataframe thead th {\n",
       "        text-align: right;\n",
       "    }\n",
       "</style>\n",
       "<table border=\"1\" class=\"dataframe\">\n",
       "  <thead>\n",
       "    <tr style=\"text-align: right;\">\n",
       "      <th></th>\n",
       "      <th>uid</th>\n",
       "      <th>song_id_down</th>\n",
       "      <th>song_name_down</th>\n",
       "      <th>date_down</th>\n",
       "    </tr>\n",
       "  </thead>\n",
       "  <tbody>\n",
       "    <tr>\n",
       "      <th>0</th>\n",
       "      <td>168529888</td>\n",
       "      <td>7170884</td>\n",
       "      <td>别在需要的时候想起我</td>\n",
       "      <td>2017-03-30</td>\n",
       "    </tr>\n",
       "    <tr>\n",
       "      <th>1</th>\n",
       "      <td>168531264</td>\n",
       "      <td>737006</td>\n",
       "      <td>001小五义</td>\n",
       "      <td>2017-03-30</td>\n",
       "    </tr>\n",
       "    <tr>\n",
       "      <th>2</th>\n",
       "      <td>168531264</td>\n",
       "      <td>737007</td>\n",
       "      <td>002小五义</td>\n",
       "      <td>2017-03-30</td>\n",
       "    </tr>\n",
       "    <tr>\n",
       "      <th>3</th>\n",
       "      <td>168531264</td>\n",
       "      <td>737008</td>\n",
       "      <td>003小五义</td>\n",
       "      <td>2017-03-30</td>\n",
       "    </tr>\n",
       "    <tr>\n",
       "      <th>4</th>\n",
       "      <td>168531264</td>\n",
       "      <td>737009</td>\n",
       "      <td>004小五义</td>\n",
       "      <td>2017-03-30</td>\n",
       "    </tr>\n",
       "  </tbody>\n",
       "</table>\n",
       "</div>"
      ],
      "text/plain": [
       "         uid song_id_down song_name_down   date_down\n",
       "0  168529888      7170884     别在需要的时候想起我  2017-03-30\n",
       "1  168531264       737006         001小五义  2017-03-30\n",
       "2  168531264       737007         002小五义  2017-03-30\n",
       "3  168531264       737008         003小五义  2017-03-30\n",
       "4  168531264       737009         004小五义  2017-03-30"
      ]
     },
     "execution_count": 73,
     "metadata": {},
     "output_type": "execute_result"
    }
   ],
   "source": [
    "sample_down = down_df_2.filter(down_df_2['uid'].isin([int(i) for i in sampled_uid]))\n",
    "pd.DataFrame(sample_down.take(5), columns=sample_down.columns)"
   ]
  },
  {
   "cell_type": "code",
   "execution_count": 74,
   "metadata": {},
   "outputs": [],
   "source": [
    "sample_down.repartition(1).write.csv('../data/download_sample', header=True)"
   ]
  },
  {
   "cell_type": "markdown",
   "metadata": {},
   "source": [
    "### Save sampled search log file"
   ]
  },
  {
   "cell_type": "code",
   "execution_count": 75,
   "metadata": {},
   "outputs": [
    {
     "data": {
      "text/html": [
       "<div>\n",
       "<style scoped>\n",
       "    .dataframe tbody tr th:only-of-type {\n",
       "        vertical-align: middle;\n",
       "    }\n",
       "\n",
       "    .dataframe tbody tr th {\n",
       "        vertical-align: top;\n",
       "    }\n",
       "\n",
       "    .dataframe thead th {\n",
       "        text-align: right;\n",
       "    }\n",
       "</style>\n",
       "<table border=\"1\" class=\"dataframe\">\n",
       "  <thead>\n",
       "    <tr style=\"text-align: right;\">\n",
       "      <th></th>\n",
       "      <th>uid</th>\n",
       "      <th>search_date_str</th>\n",
       "      <th>search_query</th>\n",
       "    </tr>\n",
       "  </thead>\n",
       "  <tbody>\n",
       "    <tr>\n",
       "      <th>0</th>\n",
       "      <td>154407840.0</td>\n",
       "      <td>2017-03-01 00:03:40</td>\n",
       "      <td>%E6%88%91%E5%A5%BD%E5%96%9C%E6%AC%A2%E4%BD%A0</td>\n",
       "    </tr>\n",
       "    <tr>\n",
       "      <th>1</th>\n",
       "      <td>154407840.0</td>\n",
       "      <td>2017-03-01 00:04:05</td>\n",
       "      <td>%E5%8A%A8%E7%89%A9%E8%8B%B1%E8%AF%AD%E5%84%BF%...</td>\n",
       "    </tr>\n",
       "    <tr>\n",
       "      <th>2</th>\n",
       "      <td>154409920.0</td>\n",
       "      <td>2017-03-01 00:04:47</td>\n",
       "      <td>%e9%99%88%e7%99%be%e5%bc%ba</td>\n",
       "    </tr>\n",
       "    <tr>\n",
       "      <th>3</th>\n",
       "      <td>154409920.0</td>\n",
       "      <td>2017-03-01 00:05:50</td>\n",
       "      <td>%e9%99%88%e7%99%be%e5%bc%ba</td>\n",
       "    </tr>\n",
       "    <tr>\n",
       "      <th>4</th>\n",
       "      <td>154408480.0</td>\n",
       "      <td>2017-03-01 00:06:35</td>\n",
       "      <td>%E6%88%91%E4%B8%8D%E6%83%B3%E9%95%BF%E5%A4%A7</td>\n",
       "    </tr>\n",
       "  </tbody>\n",
       "</table>\n",
       "</div>"
      ],
      "text/plain": [
       "           uid       search_date_str  \\\n",
       "0  154407840.0  2017-03-01 00:03:40    \n",
       "1  154407840.0  2017-03-01 00:04:05    \n",
       "2  154409920.0  2017-03-01 00:04:47    \n",
       "3  154409920.0  2017-03-01 00:05:50    \n",
       "4  154408480.0  2017-03-01 00:06:35    \n",
       "\n",
       "                                        search_query  \n",
       "0     %E6%88%91%E5%A5%BD%E5%96%9C%E6%AC%A2%E4%BD%A0   \n",
       "1  %E5%8A%A8%E7%89%A9%E8%8B%B1%E8%AF%AD%E5%84%BF%...  \n",
       "2                       %e9%99%88%e7%99%be%e5%bc%ba   \n",
       "3                       %e9%99%88%e7%99%be%e5%bc%ba   \n",
       "4     %E6%88%91%E4%B8%8D%E6%83%B3%E9%95%BF%E5%A4%A7   "
      ]
     },
     "execution_count": 75,
     "metadata": {},
     "output_type": "execute_result"
    }
   ],
   "source": [
    "sample_search = search_df.filter(search_df['uid'].isin(sampled_uid))\n",
    "pd.DataFrame(sample_search.take(5), columns=sample_search.columns)"
   ]
  },
  {
   "cell_type": "code",
   "execution_count": 76,
   "metadata": {},
   "outputs": [],
   "source": [
    "sample_search.repartition(1).write.csv('../data/search_sample', header=True)"
   ]
  },
  {
   "cell_type": "code",
   "execution_count": null,
   "metadata": {},
   "outputs": [],
   "source": []
  }
 ],
 "metadata": {
  "kernelspec": {
   "display_name": "Python 3",
   "language": "python",
   "name": "python3"
  },
  "language_info": {
   "codemirror_mode": {
    "name": "ipython",
    "version": 3
   },
   "file_extension": ".py",
   "mimetype": "text/x-python",
   "name": "python",
   "nbconvert_exporter": "python",
   "pygments_lexer": "ipython3",
   "version": "3.6.4"
  }
 },
 "nbformat": 4,
 "nbformat_minor": 2
}
