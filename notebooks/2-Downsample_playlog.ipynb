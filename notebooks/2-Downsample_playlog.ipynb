{
 "cells": [
  {
   "cell_type": "code",
   "execution_count": 1,
   "metadata": {},
   "outputs": [],
   "source": [
    "from pyspark.sql import SparkSession\n",
    "from pyspark.sql import Row\n",
    "from pyspark.sql import functions\n",
    "from pyspark.sql.types import *\n",
    "from pyspark.sql.functions import *\n",
    "\n",
    "import pandas as pd\n",
    "import matplotlib.pyplot as plt\n",
    "import numpy as np"
   ]
  },
  {
   "cell_type": "code",
   "execution_count": 2,
   "metadata": {},
   "outputs": [],
   "source": [
    "#Create a SparkSession\n",
    "spark = SparkSession.builder.appName(\"downsampling\").getOrCreate()"
   ]
  },
  {
   "cell_type": "markdown",
   "metadata": {},
   "source": [
    "## Random Sample valid user id "
   ]
  },
  {
   "cell_type": "code",
   "execution_count": 3,
   "metadata": {},
   "outputs": [],
   "source": [
    "valid_user_id = pd.read_csv('../data/valid_user_id.csv')"
   ]
  },
  {
   "cell_type": "code",
   "execution_count": 4,
   "metadata": {},
   "outputs": [
    {
     "name": "stdout",
     "output_type": "stream",
     "text": [
      "<class 'pandas.core.frame.DataFrame'>\n",
      "RangeIndex: 135549 entries, 0 to 135548\n",
      "Data columns (total 2 columns):\n",
      "uid      135549 non-null float64\n",
      "count    135549 non-null int64\n",
      "dtypes: float64(1), int64(1)\n",
      "memory usage: 2.1 MB\n"
     ]
    }
   ],
   "source": [
    "valid_user_id.info()"
   ]
  },
  {
   "cell_type": "code",
   "execution_count": 8,
   "metadata": {},
   "outputs": [],
   "source": [
    "lines = spark.sparkContext.textFile(\"../data/all_play.log.fn\")"
   ]
  },
  {
   "cell_type": "code",
   "execution_count": 10,
   "metadata": {},
   "outputs": [],
   "source": [
    "def parseLine(line):\n",
    "    \"\"\"Parse lines from large text file and save it to Row RDD\n",
    "    \n",
    "    TODO: write these parseLine into a class. The chosen_uid argument can be object attribute\n",
    "    \"\"\"\n",
    "    fields = line.split('\\t')\n",
    "    if len(fields) == 10:\n",
    "        try:\n",
    "            uid = float(fields[0])\n",
    "            device = str(fields[1])\n",
    "            song_id = str(fields[2])\n",
    "            song_type = float(fields[3])\n",
    "            song_name = str(fields[4])\n",
    "            singer = str(fields[5])\n",
    "            play_time = str(fields[6])\n",
    "            song_length = float(fields[7])\n",
    "            paid_flag = float(fields[8])\n",
    "            fn = str(fields[9])\n",
    "            return Row(uid, device, song_id, song_type, song_name, singer, play_time, song_length, paid_flag, fn)\n",
    "        except:\n",
    "            return Row(None)\n",
    "    else:\n",
    "        return Row(None)\n",
    "\n",
    "\n",
    "schema = StructType([StructField('uid', FloatType(), False),\n",
    "                     StructField('device', StringType(), True),\n",
    "                     StructField('song_id', StringType(), False),\n",
    "                     StructField('song_type', FloatType(), True),\n",
    "                     StructField('song_name', StringType(), True),\n",
    "                     StructField('singer', StringType(), True),\n",
    "                     StructField('play_time', StringType(), False),\n",
    "                     StructField('song_length', FloatType(), True),\n",
    "                     StructField('paid_flag', FloatType(), True),\n",
    "                     StructField('fn', StringType(), True),])"
   ]
  },
  {
   "cell_type": "markdown",
   "metadata": {},
   "source": [
    "## Filter User ID (remove test uid) and drop uninformative columns"
   ]
  },
  {
   "cell_type": "code",
   "execution_count": 13,
   "metadata": {},
   "outputs": [],
   "source": [
    "songs = lines.map(parseLine).filter(lambda x: len(x) == len(schema))\n",
    "# Convert that to a DataFrame\n",
    "df_all_valid = spark.createDataFrame(songs,schema)\n",
    "df_all_valid = df_all_valid.drop('song_type',\n",
    "                                     'song_name', \n",
    "                                     'singer',\n",
    "                                     'paid_flag').filter(df_all_valid['uid'].isin(list(valid_user_id.uid.values)))"
   ]
  },
  {
   "cell_type": "markdown",
   "metadata": {},
   "source": [
    "## Transform file_name to datatime"
   ]
  },
  {
   "cell_type": "code",
   "execution_count": 15,
   "metadata": {},
   "outputs": [],
   "source": [
    "df_all_valid = df_all_valid.withColumn(\"device\", trim(df_all_valid.device)) \\\n",
    "                               .withColumn('date_str', trim(df_all_valid.fn.substr(1,9))) \\\n",
    "                               .withColumn('date_string', regexp_replace('date_str', '20170339', '20170329')) \\\n",
    "                               .withColumn(\"unix_date\", unix_timestamp('date_string', 'yyyyMMdd')) \\\n",
    "                               .withColumn(\"date\", from_unixtime('unix_date').cast(DateType())) \\\n",
    "                               .drop('date_str') \\\n",
    "                               .drop('date_string') \\\n",
    "                               .drop('unix_date').cache()"
   ]
  },
  {
   "cell_type": "code",
   "execution_count": 16,
   "metadata": {},
   "outputs": [
    {
     "data": {
      "text/html": [
       "<div>\n",
       "<style scoped>\n",
       "    .dataframe tbody tr th:only-of-type {\n",
       "        vertical-align: middle;\n",
       "    }\n",
       "\n",
       "    .dataframe tbody tr th {\n",
       "        vertical-align: top;\n",
       "    }\n",
       "\n",
       "    .dataframe thead th {\n",
       "        text-align: right;\n",
       "    }\n",
       "</style>\n",
       "<table border=\"1\" class=\"dataframe\">\n",
       "  <thead>\n",
       "    <tr style=\"text-align: right;\">\n",
       "      <th></th>\n",
       "      <th>uid</th>\n",
       "      <th>device</th>\n",
       "      <th>song_id</th>\n",
       "      <th>play_time</th>\n",
       "      <th>song_length</th>\n",
       "      <th>fn</th>\n",
       "      <th>date</th>\n",
       "    </tr>\n",
       "  </thead>\n",
       "  <tbody>\n",
       "    <tr>\n",
       "      <th>0</th>\n",
       "      <td>154422688.0</td>\n",
       "      <td>ar</td>\n",
       "      <td>20870993</td>\n",
       "      <td>22013</td>\n",
       "      <td>332.0</td>\n",
       "      <td>20170301_play.log</td>\n",
       "      <td>2017-03-01</td>\n",
       "    </tr>\n",
       "    <tr>\n",
       "      <th>1</th>\n",
       "      <td>154421904.0</td>\n",
       "      <td>ip</td>\n",
       "      <td>6560858</td>\n",
       "      <td>96</td>\n",
       "      <td>161.0</td>\n",
       "      <td>20170301_play.log</td>\n",
       "      <td>2017-03-01</td>\n",
       "    </tr>\n",
       "    <tr>\n",
       "      <th>2</th>\n",
       "      <td>154422624.0</td>\n",
       "      <td>ar</td>\n",
       "      <td>3385963</td>\n",
       "      <td>235868</td>\n",
       "      <td>235.0</td>\n",
       "      <td>20170301_play.log</td>\n",
       "      <td>2017-03-01</td>\n",
       "    </tr>\n",
       "    <tr>\n",
       "      <th>3</th>\n",
       "      <td>154410272.0</td>\n",
       "      <td>ar</td>\n",
       "      <td>6777172</td>\n",
       "      <td>164</td>\n",
       "      <td>237.0</td>\n",
       "      <td>20170301_play.log</td>\n",
       "      <td>2017-03-01</td>\n",
       "    </tr>\n",
       "    <tr>\n",
       "      <th>4</th>\n",
       "      <td>154407792.0</td>\n",
       "      <td>ar</td>\n",
       "      <td>19472465</td>\n",
       "      <td>24</td>\n",
       "      <td>201.0</td>\n",
       "      <td>20170301_play.log</td>\n",
       "      <td>2017-03-01</td>\n",
       "    </tr>\n",
       "  </tbody>\n",
       "</table>\n",
       "</div>"
      ],
      "text/plain": [
       "           uid device    song_id play_time  song_length                  fn  \\\n",
       "0  154422688.0     ar  20870993     22013         332.0   20170301_play.log   \n",
       "1  154421904.0     ip   6560858        96         161.0   20170301_play.log   \n",
       "2  154422624.0     ar   3385963    235868         235.0   20170301_play.log   \n",
       "3  154410272.0     ar   6777172       164         237.0   20170301_play.log   \n",
       "4  154407792.0     ar  19472465        24         201.0   20170301_play.log   \n",
       "\n",
       "         date  \n",
       "0  2017-03-01  \n",
       "1  2017-03-01  \n",
       "2  2017-03-01  \n",
       "3  2017-03-01  \n",
       "4  2017-03-01  "
      ]
     },
     "execution_count": 16,
     "metadata": {},
     "output_type": "execute_result"
    }
   ],
   "source": [
    "pd.DataFrame(df_all_valid.take(5), columns=df_all_valid.columns)"
   ]
  },
  {
   "cell_type": "code",
   "execution_count": 17,
   "metadata": {},
   "outputs": [
    {
     "name": "stdout",
     "output_type": "stream",
     "text": [
      "total number of active user is 83928\n"
     ]
    }
   ],
   "source": [
    "# play log dated from 20170301 to 20170512, \n",
    "# use last 2 week as churn window \n",
    "active_uid = df_all_valid.filter(df_all_valid.date >= '2017-04-29') \\\n",
    "                            .select(df_all_valid.uid.alias('active_uid')) \\\n",
    "                            .distinct()\n",
    "        \n",
    "active_uid.repartition(1).write.csv('../data/active_uid', header=True)\n",
    "print('total number of active user is', active_uid.count())"
   ]
  },
  {
   "cell_type": "code",
   "execution_count": 18,
   "metadata": {},
   "outputs": [],
   "source": [
    "# converting spark dataframe column to list\n",
    "active_list = active_uid.select('active_uid').rdd.flatMap(lambda x: x).collect()\n",
    "valid_user_id['churn_label'] = valid_user_id['uid'].isin(active_list)"
   ]
  },
  {
   "cell_type": "markdown",
   "metadata": {},
   "source": [
    "### Check the ratio of active and churned user"
   ]
  },
  {
   "cell_type": "code",
   "execution_count": 23,
   "metadata": {},
   "outputs": [
    {
     "data": {
      "text/html": [
       "<div>\n",
       "<style scoped>\n",
       "    .dataframe tbody tr th:only-of-type {\n",
       "        vertical-align: middle;\n",
       "    }\n",
       "\n",
       "    .dataframe tbody tr th {\n",
       "        vertical-align: top;\n",
       "    }\n",
       "\n",
       "    .dataframe thead th {\n",
       "        text-align: right;\n",
       "    }\n",
       "</style>\n",
       "<table border=\"1\" class=\"dataframe\">\n",
       "  <thead>\n",
       "    <tr style=\"text-align: right;\">\n",
       "      <th></th>\n",
       "      <th>uid</th>\n",
       "      <th>count</th>\n",
       "    </tr>\n",
       "    <tr>\n",
       "      <th>churn_label</th>\n",
       "      <th></th>\n",
       "      <th></th>\n",
       "    </tr>\n",
       "  </thead>\n",
       "  <tbody>\n",
       "    <tr>\n",
       "      <th>False</th>\n",
       "      <td>51621</td>\n",
       "      <td>51621</td>\n",
       "    </tr>\n",
       "    <tr>\n",
       "      <th>True</th>\n",
       "      <td>83928</td>\n",
       "      <td>83928</td>\n",
       "    </tr>\n",
       "  </tbody>\n",
       "</table>\n",
       "</div>"
      ],
      "text/plain": [
       "               uid  count\n",
       "churn_label              \n",
       "False        51621  51621\n",
       "True         83928  83928"
      ]
     },
     "execution_count": 23,
     "metadata": {},
     "output_type": "execute_result"
    }
   ],
   "source": [
    "valid_user_id.groupby('churn_label').count()"
   ]
  },
  {
   "cell_type": "code",
   "execution_count": 25,
   "metadata": {},
   "outputs": [],
   "source": [
    "valid_user_id.to_csv('../data/valid_user_id.csv', index=False)"
   ]
  },
  {
   "cell_type": "markdown",
   "metadata": {},
   "source": [
    "## Down sample 1:1 in churned and active user"
   ]
  },
  {
   "cell_type": "code",
   "execution_count": 28,
   "metadata": {},
   "outputs": [],
   "source": [
    "# keep 5% of the valid user id for training and modeling\n",
    "sampled_uid = valid_user_id.groupby('churn_label').apply(lambda x: x.sample(frac=0.05)).set_index('uid')\n",
    "# we have 6777 sampled user in total"
   ]
  },
  {
   "cell_type": "code",
   "execution_count": 30,
   "metadata": {},
   "outputs": [],
   "source": [
    "sampled_playlog = df_all_valid.filter(df_all_valid['uid'].isin(list(sampled_uid.index.values))).cache()"
   ]
  },
  {
   "cell_type": "code",
   "execution_count": 31,
   "metadata": {},
   "outputs": [
    {
     "data": {
      "text/html": [
       "<div>\n",
       "<style scoped>\n",
       "    .dataframe tbody tr th:only-of-type {\n",
       "        vertical-align: middle;\n",
       "    }\n",
       "\n",
       "    .dataframe tbody tr th {\n",
       "        vertical-align: top;\n",
       "    }\n",
       "\n",
       "    .dataframe thead th {\n",
       "        text-align: right;\n",
       "    }\n",
       "</style>\n",
       "<table border=\"1\" class=\"dataframe\">\n",
       "  <thead>\n",
       "    <tr style=\"text-align: right;\">\n",
       "      <th></th>\n",
       "      <th>uid</th>\n",
       "      <th>device</th>\n",
       "      <th>song_id</th>\n",
       "      <th>play_time</th>\n",
       "      <th>song_length</th>\n",
       "      <th>fn</th>\n",
       "      <th>date</th>\n",
       "    </tr>\n",
       "  </thead>\n",
       "  <tbody>\n",
       "    <tr>\n",
       "      <th>0</th>\n",
       "      <td>154421168.0</td>\n",
       "      <td>ar</td>\n",
       "      <td>1967689</td>\n",
       "      <td>139</td>\n",
       "      <td>275.0</td>\n",
       "      <td>20170301_play.log</td>\n",
       "      <td>2017-03-01</td>\n",
       "    </tr>\n",
       "    <tr>\n",
       "      <th>1</th>\n",
       "      <td>154422592.0</td>\n",
       "      <td>ar</td>\n",
       "      <td>6468891</td>\n",
       "      <td>261</td>\n",
       "      <td>261.0</td>\n",
       "      <td>20170301_play.log</td>\n",
       "      <td>2017-03-01</td>\n",
       "    </tr>\n",
       "    <tr>\n",
       "      <th>2</th>\n",
       "      <td>154422592.0</td>\n",
       "      <td>ar</td>\n",
       "      <td>20870993</td>\n",
       "      <td>332</td>\n",
       "      <td>332.0</td>\n",
       "      <td>20170301_play.log</td>\n",
       "      <td>2017-03-01</td>\n",
       "    </tr>\n",
       "    <tr>\n",
       "      <th>3</th>\n",
       "      <td>154416928.0</td>\n",
       "      <td>ar</td>\n",
       "      <td>1691087</td>\n",
       "      <td>86</td>\n",
       "      <td>358.0</td>\n",
       "      <td>20170301_play.log</td>\n",
       "      <td>2017-03-01</td>\n",
       "    </tr>\n",
       "    <tr>\n",
       "      <th>4</th>\n",
       "      <td>154421664.0</td>\n",
       "      <td>ip</td>\n",
       "      <td>7153193</td>\n",
       "      <td>4</td>\n",
       "      <td>256.0</td>\n",
       "      <td>20170301_play.log</td>\n",
       "      <td>2017-03-01</td>\n",
       "    </tr>\n",
       "  </tbody>\n",
       "</table>\n",
       "</div>"
      ],
      "text/plain": [
       "           uid device    song_id play_time  song_length                  fn  \\\n",
       "0  154421168.0     ar   1967689       139         275.0   20170301_play.log   \n",
       "1  154422592.0     ar   6468891       261         261.0   20170301_play.log   \n",
       "2  154422592.0     ar  20870993       332         332.0   20170301_play.log   \n",
       "3  154416928.0     ar   1691087        86         358.0   20170301_play.log   \n",
       "4  154421664.0     ip   7153193         4         256.0   20170301_play.log   \n",
       "\n",
       "         date  \n",
       "0  2017-03-01  \n",
       "1  2017-03-01  \n",
       "2  2017-03-01  \n",
       "3  2017-03-01  \n",
       "4  2017-03-01  "
      ]
     },
     "execution_count": 31,
     "metadata": {},
     "output_type": "execute_result"
    }
   ],
   "source": [
    "pd.DataFrame(sampled_playlog.take(5),columns=sampled_playlog.columns)"
   ]
  },
  {
   "cell_type": "code",
   "execution_count": 33,
   "metadata": {},
   "outputs": [],
   "source": [
    "sampled_playlog.coalesce(1).write.format('json').save('../data/sampled_playlog.json')"
   ]
  },
  {
   "cell_type": "code",
   "execution_count": 37,
   "metadata": {},
   "outputs": [],
   "source": [
    "df_sampled = pd.read_json('../data/sampled_playlog.json/part-00000-badae413-8a2b-46ea-9ce7-c83aaa3fa0f5-c000.json'\n",
    "                          ,lines=True)"
   ]
  },
  {
   "cell_type": "code",
   "execution_count": 38,
   "metadata": {},
   "outputs": [
    {
     "data": {
      "text/html": [
       "<div>\n",
       "<style scoped>\n",
       "    .dataframe tbody tr th:only-of-type {\n",
       "        vertical-align: middle;\n",
       "    }\n",
       "\n",
       "    .dataframe tbody tr th {\n",
       "        vertical-align: top;\n",
       "    }\n",
       "\n",
       "    .dataframe thead th {\n",
       "        text-align: right;\n",
       "    }\n",
       "</style>\n",
       "<table border=\"1\" class=\"dataframe\">\n",
       "  <thead>\n",
       "    <tr style=\"text-align: right;\">\n",
       "      <th></th>\n",
       "      <th>date</th>\n",
       "      <th>device</th>\n",
       "      <th>fn</th>\n",
       "      <th>play_time</th>\n",
       "      <th>song_id</th>\n",
       "      <th>song_length</th>\n",
       "      <th>uid</th>\n",
       "    </tr>\n",
       "  </thead>\n",
       "  <tbody>\n",
       "    <tr>\n",
       "      <th>0</th>\n",
       "      <td>2017-03-01</td>\n",
       "      <td>ar</td>\n",
       "      <td>20170301_play.log</td>\n",
       "      <td>139</td>\n",
       "      <td>1967689.0</td>\n",
       "      <td>275.0</td>\n",
       "      <td>154421168.0</td>\n",
       "    </tr>\n",
       "    <tr>\n",
       "      <th>1</th>\n",
       "      <td>2017-03-01</td>\n",
       "      <td>ar</td>\n",
       "      <td>20170301_play.log</td>\n",
       "      <td>261</td>\n",
       "      <td>6468891.0</td>\n",
       "      <td>261.0</td>\n",
       "      <td>154422592.0</td>\n",
       "    </tr>\n",
       "    <tr>\n",
       "      <th>2</th>\n",
       "      <td>2017-03-01</td>\n",
       "      <td>ar</td>\n",
       "      <td>20170301_play.log</td>\n",
       "      <td>332</td>\n",
       "      <td>20870993.0</td>\n",
       "      <td>332.0</td>\n",
       "      <td>154422592.0</td>\n",
       "    </tr>\n",
       "    <tr>\n",
       "      <th>3</th>\n",
       "      <td>2017-03-01</td>\n",
       "      <td>ar</td>\n",
       "      <td>20170301_play.log</td>\n",
       "      <td>86</td>\n",
       "      <td>1691087.0</td>\n",
       "      <td>358.0</td>\n",
       "      <td>154416928.0</td>\n",
       "    </tr>\n",
       "    <tr>\n",
       "      <th>4</th>\n",
       "      <td>2017-03-01</td>\n",
       "      <td>ip</td>\n",
       "      <td>20170301_play.log</td>\n",
       "      <td>4</td>\n",
       "      <td>7153193.0</td>\n",
       "      <td>256.0</td>\n",
       "      <td>154421664.0</td>\n",
       "    </tr>\n",
       "  </tbody>\n",
       "</table>\n",
       "</div>"
      ],
      "text/plain": [
       "        date device                  fn play_time     song_id  song_length  \\\n",
       "0 2017-03-01     ar   20170301_play.log      139    1967689.0        275.0   \n",
       "1 2017-03-01     ar   20170301_play.log      261    6468891.0        261.0   \n",
       "2 2017-03-01     ar   20170301_play.log      332   20870993.0        332.0   \n",
       "3 2017-03-01     ar   20170301_play.log       86    1691087.0        358.0   \n",
       "4 2017-03-01     ip   20170301_play.log        4    7153193.0        256.0   \n",
       "\n",
       "           uid  \n",
       "0  154421168.0  \n",
       "1  154422592.0  \n",
       "2  154422592.0  \n",
       "3  154416928.0  \n",
       "4  154421664.0  "
      ]
     },
     "execution_count": 38,
     "metadata": {},
     "output_type": "execute_result"
    }
   ],
   "source": [
    "df_sampled.head()"
   ]
  },
  {
   "cell_type": "code",
   "execution_count": 39,
   "metadata": {},
   "outputs": [],
   "source": [
    "spark.stop()"
   ]
  },
  {
   "cell_type": "code",
   "execution_count": null,
   "metadata": {},
   "outputs": [],
   "source": []
  }
 ],
 "metadata": {
  "kernelspec": {
   "display_name": "Python 3",
   "language": "python",
   "name": "python3"
  },
  "language_info": {
   "codemirror_mode": {
    "name": "ipython",
    "version": 3
   },
   "file_extension": ".py",
   "mimetype": "text/x-python",
   "name": "python",
   "nbconvert_exporter": "python",
   "pygments_lexer": "ipython3",
   "version": "3.6.4"
  }
 },
 "nbformat": 4,
 "nbformat_minor": 2
}
