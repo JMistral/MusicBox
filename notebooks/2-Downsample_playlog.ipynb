{
 "cells": [
  {
   "cell_type": "code",
   "execution_count": null,
   "metadata": {},
   "outputs": [],
   "source": [
    "from pyspark.sql import SparkSession\n",
    "from pyspark.sql import Row\n",
    "from pyspark.sql import functions\n",
    "from pyspark.sql.types import *\n",
    "from pyspark.sql.functions import *\n",
    "\n",
    "import pandas as pd\n",
    "import matplotlib.pyplot as plt\n",
    "import numpy as np"
   ]
  },
  {
   "cell_type": "code",
   "execution_count": null,
   "metadata": {},
   "outputs": [],
   "source": [
    "#Create a SparkSession\n",
    "spark = SparkSession.builder.appName(\"downsampling\").getOrCreate()"
   ]
  },
  {
   "cell_type": "markdown",
   "metadata": {},
   "source": [
    "## Random Sample valid user id "
   ]
  },
  {
   "cell_type": "code",
   "execution_count": null,
   "metadata": {},
   "outputs": [],
   "source": [
    "valid_user_id = pd.read_csv('../data/valid_user_id.csv')"
   ]
  },
  {
   "cell_type": "code",
   "execution_count": null,
   "metadata": {},
   "outputs": [],
   "source": [
    "valid_user_id.info()"
   ]
  },
  {
   "cell_type": "code",
   "execution_count": null,
   "metadata": {},
   "outputs": [],
   "source": [
    "lines = spark.sparkContext.textFile(\"../data/all_play.log.fn\")"
   ]
  },
  {
   "cell_type": "code",
   "execution_count": null,
   "metadata": {},
   "outputs": [],
   "source": [
    "def parseLine(line):\n",
    "    \"\"\"Parse lines from large text file and save it to Row RDD\n",
    "    \n",
    "    TODO: write these parseLine into a class. The chosen_uid argument can be object attribute\n",
    "    \"\"\"\n",
    "    fields = line.split('\\t')\n",
    "    if len(fields) == 10:\n",
    "        try:\n",
    "            uid = float(fields[0])\n",
    "            device = str(fields[1])\n",
    "            song_id = str(fields[2])\n",
    "            song_type = float(fields[3])\n",
    "            song_name = str(fields[4])\n",
    "            singer = str(fields[5])\n",
    "            play_time = str(fields[6])\n",
    "            song_length = float(fields[7])\n",
    "            paid_flag = float(fields[8])\n",
    "            fn = str(fields[9])\n",
    "            return Row(uid, device, song_id, song_type, song_name, singer, play_time, song_length, paid_flag, fn)\n",
    "        except:\n",
    "            return Row(None)\n",
    "    else:\n",
    "        return Row(None)\n",
    "\n",
    "\n",
    "schema = StructType([StructField('uid', FloatType(), False),\n",
    "                     StructField('device', StringType(), True),\n",
    "                     StructField('song_id', StringType(), False),\n",
    "                     StructField('song_type', FloatType(), True),\n",
    "                     StructField('song_name', StringType(), True),\n",
    "                     StructField('singer', StringType(), True),\n",
    "                     StructField('play_time', StringType(), False),\n",
    "                     StructField('song_length', FloatType(), True),\n",
    "                     StructField('paid_flag', FloatType(), True),\n",
    "                     StructField('fn', StringType(), True),])"
   ]
  },
  {
   "cell_type": "markdown",
   "metadata": {},
   "source": [
    "## Filter User ID (remove test uid) and drop uninformative columns"
   ]
  },
  {
   "cell_type": "code",
   "execution_count": null,
   "metadata": {},
   "outputs": [],
   "source": [
    "songs = lines.map(parseLine).filter(lambda x: len(x) == len(schema))\n",
    "# Convert that to a DataFrame\n",
    "df_all_valid = spark.createDataFrame(songs,schema)\n",
    "df_all_valid = df_all_valid.drop('song_type',\n",
    "                                     'song_name', \n",
    "                                     'singer',\n",
    "                                     'paid_flag').filter(df_all_valid['uid'].isin(list(valid_user_id.uid.values)))"
   ]
  },
  {
   "cell_type": "markdown",
   "metadata": {},
   "source": [
    "## Transform file_name to datatime\n",
    "* search log and download log start from 2017-3-30\n",
    "* no playlog from 3-10 to 3-28"
   ]
  },
  {
   "cell_type": "code",
   "execution_count": null,
   "metadata": {},
   "outputs": [],
   "source": [
    "df_all_valid = df_all_valid.withColumn(\"device\", trim(df_all_valid.device)) \\\n",
    "                               .withColumn('date_str', trim(df_all_valid.fn.substr(1,9))) \\\n",
    "                               .withColumn('date_string', regexp_replace('date_str', '20170339', '20170329')) \\\n",
    "                               .withColumn(\"unix_date\", unix_timestamp('date_string', 'yyyyMMdd')) \\\n",
    "                               .withColumn(\"date\", from_unixtime('unix_date').cast(DateType())) \\\n",
    "                               .drop('date_str') \\\n",
    "                               .drop('date_string') \\\n",
    "                               .drop('unix_date').cache()"
   ]
  },
  {
   "cell_type": "code",
   "execution_count": null,
   "metadata": {},
   "outputs": [],
   "source": [
    "pd.DataFrame(df_all_valid.take(5), columns=df_all_valid.columns)"
   ]
  },
  {
   "cell_type": "markdown",
   "metadata": {},
   "source": [
    "### How many records we get per day?"
   ]
  },
  {
   "cell_type": "code",
   "execution_count": null,
   "metadata": {},
   "outputs": [],
   "source": [
    "df_date_count = df_all_valid.groupby('date').count().toPandas()"
   ]
  },
  {
   "cell_type": "code",
   "execution_count": null,
   "metadata": {},
   "outputs": [],
   "source": [
    "plt.figure(figsize = (10,6))\n",
    "plt.bar(df_date_count.date.values, df_date_count.index.values)\n",
    "plt.title(\"total count of playlog record per day\")\n",
    "plt.xlabel('date')\n",
    "plt.ylabel('count')\n",
    "plt.savefig('count_per_day')"
   ]
  },
  {
   "cell_type": "markdown",
   "metadata": {},
   "source": [
    "### When is the first play record for each user?\n",
    "* we shouldn't consider the users who starts using the app after 2017-04-29, they're not churned nor active"
   ]
  },
  {
   "cell_type": "code",
   "execution_count": 20,
   "metadata": {},
   "outputs": [],
   "source": [
    "df_firstday = df_all_valid.groupby('uid') \\\n",
    "                            .agg({ 'date': 'min'}).toPandas()"
   ]
  },
  {
   "cell_type": "code",
   "execution_count": 24,
   "metadata": {},
   "outputs": [
    {
     "data": {
      "image/png": "[encoded data removed]",
      "text/plain": [
       "<matplotlib.figure.Figure at 0x125f7ef98>"
      ]
     },
     "metadata": {},
     "output_type": "display_data"
    }
   ],
   "source": [
    "plt.figure(figsize = (10,6))\n",
    "plt.hist(df_firstday['min(date)'].values)\n",
    "plt.title(\"first record date histogram for users\")\n",
    "plt.xlabel('date')\n",
    "plt.ylabel('count')\n",
    "plt.savefig('min_date')"
   ]
  },
  {
   "cell_type": "markdown",
   "metadata": {},
   "source": [
    "### drop those who start after '2017-04-29'"
   ]
  },
  {
   "cell_type": "code",
   "execution_count": 30,
   "metadata": {},
   "outputs": [],
   "source": [
    "user_to_choose = df_firstday[df_firstday['min(date)'].apply(pd.to_datetime) < pd.to_datetime('2017-04-29')].uid.values"
   ]
  },
  {
   "cell_type": "code",
   "execution_count": 60,
   "metadata": {},
   "outputs": [
    {
     "data": {
      "text/plain": [
       "(134794,)"
      ]
     },
     "execution_count": 60,
     "metadata": {},
     "output_type": "execute_result"
    }
   ],
   "source": [
    "user_to_choose.shape"
   ]
  },
  {
   "cell_type": "code",
   "execution_count": null,
   "metadata": {},
   "outputs": [],
   "source": [
    "# play log dated from 20170301 to 20170512, \n",
    "# use last 2 week as churn window \n",
    "print(user_to_choose.shape)\n",
    "#pd.DataFrame(df_all_valid.take(5), columns=df_all_valid.columns)\n",
    "\n",
    "active_uid = df_all_valid.filter(df_all_valid.date >= '2017-04-29').select(df_all_valid.uid.alias('active_uid')).distinct()\n",
    "\n",
    "#pd.DataFrame(active_uid.take(5), columns=active_uid.columns)\n",
    "active_uid = active_uid.filter(active_uid.uid.isin(list(user_to_choose))\n",
    "#active_uid.repartition(1).write.csv('../data/active_uid', header=True)\n",
    "print('total number of active user is', active_uid.count())"
   ]
  },
  {
   "cell_type": "code",
   "execution_count": null,
   "metadata": {},
   "outputs": [],
   "source": [
    "# converting spark dataframe column to list\n",
    "active_list = active_uid.select('active_uid').rdd.flatMap(lambda x: x).collect()\n",
    "valid_user_id['churn_label'] = valid_user_id['uid'].isin(active_list)"
   ]
  },
  {
   "cell_type": "markdown",
   "metadata": {},
   "source": [
    "### Check the ratio of active and churned user"
   ]
  },
  {
   "cell_type": "code",
   "execution_count": null,
   "metadata": {},
   "outputs": [],
   "source": [
    "valid_user_id.groupby('churn_label').count()"
   ]
  },
  {
   "cell_type": "code",
   "execution_count": null,
   "metadata": {},
   "outputs": [],
   "source": [
    "valid_user_id.to_csv('../data/valid_user_id.csv', index=False)"
   ]
  },
  {
   "cell_type": "markdown",
   "metadata": {},
   "source": [
    "## Down sample 1:1 in churned and active user"
   ]
  },
  {
   "cell_type": "code",
   "execution_count": null,
   "metadata": {},
   "outputs": [],
   "source": [
    "# keep 5% of the valid user id for training and modeling\n",
    "sampled_uid = valid_user_id.groupby('churn_label').apply(lambda x: x.sample(frac=0.05)).set_index('uid')\n",
    "# we have 6777 sampled user in total"
   ]
  },
  {
   "cell_type": "code",
   "execution_count": null,
   "metadata": {},
   "outputs": [],
   "source": [
    "sampled_playlog = df_all_valid.filter(df_all_valid['uid'].isin(list(sampled_uid.index.values))).cache()"
   ]
  },
  {
   "cell_type": "code",
   "execution_count": null,
   "metadata": {},
   "outputs": [],
   "source": [
    "pd.DataFrame(sampled_playlog.take(5),columns=sampled_playlog.columns)"
   ]
  },
  {
   "cell_type": "code",
   "execution_count": null,
   "metadata": {},
   "outputs": [],
   "source": [
    "sampled_playlog.coalesce(1).write.format('json').save('../data/sampled_playlog.json')"
   ]
  },
  {
   "cell_type": "code",
   "execution_count": null,
   "metadata": {},
   "outputs": [],
   "source": [
    "df_sampled = pd.read_json('../data/sampled_playlog.json/part-00000-badae413-8a2b-46ea-9ce7-c83aaa3fa0f5-c000.json'\n",
    "                          ,lines=True)"
   ]
  },
  {
   "cell_type": "code",
   "execution_count": null,
   "metadata": {},
   "outputs": [],
   "source": [
    "df_sampled.head()"
   ]
  },
  {
   "cell_type": "code",
   "execution_count": null,
   "metadata": {},
   "outputs": [],
   "source": [
    "spark.stop()"
   ]
  },
  {
   "cell_type": "code",
   "execution_count": null,
   "metadata": {},
   "outputs": [],
   "source": []
  }
 ],
 "metadata": {
  "kernelspec": {
   "display_name": "Python 3",
   "language": "python",
   "name": "python3"
  },
  "language_info": {
   "codemirror_mode": {
    "name": "ipython",
    "version": 3
   },
   "file_extension": ".py",
   "mimetype": "text/x-python",
   "name": "python",
   "nbconvert_exporter": "python",
   "pygments_lexer": "ipython3",
   "version": "3.6.4"
  }
 },
 "nbformat": 4,
 "nbformat_minor": 2
}
