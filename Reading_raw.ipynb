{
 "cells": [
  {
   "cell_type": "code",
   "execution_count": 1,
   "metadata": {
    "collapsed": true
   },
   "outputs": [],
   "source": [
    "from pyspark.sql import SparkSession\n",
    "from pyspark.sql import Row\n",
    "from pyspark.sql import functions"
   ]
  },
  {
   "cell_type": "markdown",
   "metadata": {},
   "source": [
    "The command to kill all spark session, before you start a new one. \n",
    "I got error message like:\n",
    "__Another instance of Derby may have already booted the database /Users/jessie/Desktop/MusicBox/metastore_db.__\n",
    "```shell\n",
    "ps -ef | grep spark-shell\n",
    "kill -9 Spark-Shell-processID ( example: kill -9 4848)\n",
    "```\n",
    "\n",
    "To inspect the first 10 lines of a large text file:\n",
    "```shell\n",
    "head -n 10 all_play.log.fn\n",
    "```\n",
    "I found that the first two lines of \"data/all_play.log.fn\" is bad formated. So use the following command to delete them:\n",
    "```shell\n",
    "\n",
    "```"
   ]
  },
  {
   "cell_type": "code",
   "execution_count": 2,
   "metadata": {
    "collapsed": true
   },
   "outputs": [],
   "source": [
    "#Create a SparkSession\n",
    "spark = SparkSession.builder.appName(\"ReadingData\").getOrCreate()"
   ]
  },
  {
   "cell_type": "code",
   "execution_count": 3,
   "metadata": {
    "collapsed": true
   },
   "outputs": [],
   "source": [
    "lines = spark.sparkContext.textFile(\"data/all_play.log.fn\")\n",
    "#header = lines.first(2) #extract header\n",
    "#lines = lines.filter(row >= row != header)   #filter out header"
   ]
  },
  {
   "cell_type": "code",
   "execution_count": 4,
   "metadata": {},
   "outputs": [],
   "source": [
    "from pyspark.sql.types import *\n",
    "\n",
    "def parseLine(line):\n",
    "    fields = line.split('\\t')\n",
    "    if len(fields) == 10:\n",
    "        uid = int(fields[0])\n",
    "        device = str(fields[1])\n",
    "        song_id = int(fields[2])\n",
    "        song_type = int(fields[3])\n",
    "        song_name = str(fields[4])\n",
    "        singer = str(fields[5])\n",
    "        play_time = int(fields[6])\n",
    "        song_length = int(fields[7])\n",
    "        paid_flag = int(fields[8])\n",
    "        fn = str(fields[9])\n",
    "        return Row(uid, device, song_id, song_type, song_name, singer, play_time, song_length, paid_flag, fn)\n",
    "    else:\n",
    "        return Row(None)\n",
    "\n",
    "\n",
    "schema = StructType([StructField('uid', IntegerType(), True),\n",
    "                     StructField('device', StringType(), True),\n",
    "                     StructField('song_id', IntegerType(), False),\n",
    "                     StructField('song_type', IntegerType(), True),\n",
    "                     StructField('song_name', StringType(), True),\n",
    "                     StructField('singer', StringType(), True),\n",
    "                     StructField('play_time', IntegerType(), False),\n",
    "                     StructField('song_length', IntegerType(), True),\n",
    "                     StructField('paid_flag', IntegerType(), True),\n",
    "                     StructField('fn', StringType(), True),])"
   ]
  },
  {
   "cell_type": "markdown",
   "metadata": {},
   "source": [
    "if you want to create an empty dataframe with RDD:\n",
    "```python\n",
    "from pyspark.sql.types import *\n",
    "field = [StructField(“FIELDNAME_1”,StringType(), True),StructField(“FIELDNAME_2”, StringType(), True),\\\n",
    " StructField(“FIELDNAME_3”, StringType(), True)]\n",
    "schema = StructType(field)\n",
    "df = sqlContext.createDataFrame(sc.emptyRDD(), schema)\n",
    "```"
   ]
  },
  {
   "cell_type": "code",
   "execution_count": 7,
   "metadata": {},
   "outputs": [],
   "source": [
    "songs = lines.map(parseLine).filter(lambda x: len(x) == len(schema))\n",
    "# Convert that to a DataFrame\n",
    "songDataset = spark.createDataFrame(songs)\n",
    "#df = spark.read.csv(\"data/all_play.log.fn\",header=False,schema=schema)           "
   ]
  },
  {
   "cell_type": "code",
   "execution_count": 8,
   "metadata": {},
   "outputs": [
    {
     "name": "stdout",
     "output_type": "stream",
     "text": [
      "+---------+---+--------+---+--------------------+--------------------+------+---+---+------------------+\n",
      "|       _1| _2|      _3| _4|                  _5|                  _6|    _7| _8| _9|               _10|\n",
      "+---------+---+--------+---+--------------------+--------------------+------+---+---+------------------+\n",
      "|154422682|ar |20870993|  1|                 用情 |              狮子合唱团 | 22013|332|  0| 20170301_play.log|\n",
      "|154421907|ip | 6560858|  0|             表情不要悲伤 |    伯贤&D.O.&张艺兴&朴灿烈 |    96|161|  0| 20170301_play.log|\n",
      "|154422630|ar | 3385963|  1|Baby, Don't Cry(人...|                EXO |235868|235|  0| 20170301_play.log|\n",
      "|154410267|ar | 6777172|  0|   3D-环绕音律1(3D Mix) |             McTaiM |   164|237|  0| 20170301_play.log|\n",
      "|154407793|ar |19472465|  0|              刚好遇见你 |                曲肖冰 |    24|201|  0| 20170301_play.log|\n",
      "|154422626|ar | 3198036|  1|              只唱给你听 |            SpeXial |275249|  0|  0| 20170301_play.log|\n",
      "|154422681|ar |  891952|  0|   老男孩-(电影《老男孩》主题曲) |               筷子兄弟 |   300|300|  0| 20170301_play.log|\n",
      "|154408091|ar | 4623962|  0|             预谋 许佳慧 |               网络歌手 |   243|243|  0| 20170301_play.log|\n",
      "|154422571|ar |  703750|  0|            爸爸妈妈听我说 |               儿童歌曲 |   207|207|  0| 20170301_play.log|\n",
      "|154417311|ar | 6491500|  0|        Stereo Love |        Edward Maya |    56|184|  0| 20170301_play.log|\n",
      "|154421166|ar | 1967689|  0|    悟-(电影《新少林寺》主题曲) |                刘德华 |   139|275|  0| 20170301_play.log|\n",
      "|154421859|ar | 6126586|  0|        老情歌(27秒铃声版) |                 童丽 |     4| 27|  0| 20170301_play.log|\n",
      "|154422660|ar |11914644|  0|                 温柔 |杨丞琳[一闪一闪亮晶晶的钻石女士]...|   299|300|  0| 20170301_play.log|\n",
      "|154422590|ar | 6468891|  0|                 演员 |                薛之谦 |   261|261|  0| 20170301_play.log|\n",
      "|154419565|ar |15196649|  0|            我太帅了万人爱 |               MC马克 |     8| 65|  0| 20170301_play.log|\n",
      "|154414286|ar | 7143177|  0|超越无限-(电影《听·见 林俊杰》...|                林俊杰 |    26|  0|  0| 20170301_play.log|\n",
      "|154422089|ar |       0|  1|           预谋dj 许佳慧 |听30音乐网首发Qq369849635 |     7|345|  0| 20170301_play.log|\n",
      "|154422443|ip | 6247282|  0|            假日(DJ版) |                罗百吉 |     1|277|  0| 20170301_play.log|\n",
      "|154412729|ip | 4357368|  0|英文(Dj,2012 超好听的英文...|               慢摇舞曲 |     4|271|  0| 20170301_play.log|\n",
      "|153985859|ar | 6762438|  0|         门铃声(1秒铃声版) |               手机铃声 |     1|  1|  0| 20170301_play.log|\n",
      "+---------+---+--------+---+--------------------+--------------------+------+---+---+------------------+\n",
      "only showing top 20 rows\n",
      "\n"
     ]
    }
   ],
   "source": [
    "songDataset.show()"
   ]
  },
  {
   "cell_type": "code",
   "execution_count": null,
   "metadata": {
    "collapsed": true
   },
   "outputs": [],
   "source": [
    "spark.stop()"
   ]
  },
  {
   "cell_type": "code",
   "execution_count": null,
   "metadata": {
    "collapsed": true
   },
   "outputs": [],
   "source": []
  }
 ],
 "metadata": {
  "kernelspec": {
   "display_name": "Python 3",
   "language": "python",
   "name": "python3"
  },
  "language_info": {
   "codemirror_mode": {
    "name": "ipython",
    "version": 3
   },
   "file_extension": ".py",
   "mimetype": "text/x-python",
   "name": "python",
   "nbconvert_exporter": "python",
   "pygments_lexer": "ipython3",
   "version": "3.6.0"
  }
 },
 "nbformat": 4,
 "nbformat_minor": 2
}
