{
 "cells": [
  {
   "cell_type": "code",
   "execution_count": 1,
   "metadata": {
    "collapsed": true
   },
   "outputs": [],
   "source": [
    "from pyspark.sql import SparkSession\n",
    "from pyspark.sql import Row\n",
    "from pyspark.sql import functions"
   ]
  },
  {
   "cell_type": "markdown",
   "metadata": {},
   "source": [
    "The command to kill all spark session, before you start a new one. \n",
    "I got error message like:\n",
    "__Another instance of Derby may have already booted the database /Users/jessie/Desktop/MusicBox/metastore_db.__\n",
    "```shell\n",
    "ps -ef | grep spark-shell\n",
    "kill -9 Spark-Shell-processID ( example: kill -9 4848)\n",
    "```\n",
    "\n",
    "To inspect the first 10 lines of a large text file:\n",
    "```shell\n",
    "head -n 10 all_play.log.fn\n",
    "```\n",
    "I found that the first two lines of \"data/all_play.log.fn\" is bad formated. So use the following command to delete them:\n",
    "```shell\n",
    "\n",
    "```"
   ]
  },
  {
   "cell_type": "code",
   "execution_count": 2,
   "metadata": {
    "collapsed": true
   },
   "outputs": [],
   "source": [
    "#Create a SparkSession\n",
    "spark = SparkSession.builder.appName(\"ReadingData\").getOrCreate()"
   ]
  },
  {
   "cell_type": "code",
   "execution_count": 3,
   "metadata": {
    "collapsed": true
   },
   "outputs": [],
   "source": [
    "lines = spark.sparkContext.textFile(\"data/all_play.log.fn\")"
   ]
  },
  {
   "cell_type": "code",
   "execution_count": 4,
   "metadata": {
    "collapsed": true
   },
   "outputs": [],
   "source": [
    "from pyspark.sql.types import *\n",
    "\n",
    "def parseLine(line):\n",
    "    fields = line.split('\\t')\n",
    "    if len(fields) == 10:\n",
    "        try:\n",
    "            uid = float(fields[0])\n",
    "            device = str(fields[1])\n",
    "            song_id = str(fields[2])\n",
    "            song_type = float(fields[3])\n",
    "            song_name = str(fields[4])\n",
    "            singer = str(fields[5])\n",
    "            play_time = str(fields[6])\n",
    "            song_length = float(fields[7])\n",
    "            paid_flag = float(fields[8])\n",
    "            fn = str(fields[9])\n",
    "            return Row(uid, device, song_id, song_type, song_name, singer, play_time, song_length, paid_flag, fn)\n",
    "        except:\n",
    "            return Row(None)\n",
    "    else:\n",
    "        return Row(None)\n",
    "\n",
    "\n",
    "schema = StructType([StructField('uid', FloatType(), False),\n",
    "                     StructField('device', StringType(), True),\n",
    "                     StructField('song_id', StringType(), False),\n",
    "                     StructField('song_type', FloatType(), True),\n",
    "                     StructField('song_name', StringType(), True),\n",
    "                     StructField('singer', StringType(), True),\n",
    "                     StructField('play_time', StringType(), False),\n",
    "                     StructField('song_length', FloatType(), True),\n",
    "                     StructField('paid_flag', FloatType(), True),\n",
    "                     StructField('fn', StringType(), True),])"
   ]
  },
  {
   "cell_type": "markdown",
   "metadata": {},
   "source": [
    "if you want to create an empty dataframe with RDD:\n",
    "```python\n",
    "from pyspark.sql.types import *\n",
    "field = [StructField(“FIELDNAME_1”,StringType(), True),StructField(“FIELDNAME_2”, StringType(), True),\\\n",
    " StructField(“FIELDNAME_3”, StringType(), True)]\n",
    "schema = StructType(field)\n",
    "df = sqlContext.createDataFrame(sc.emptyRDD(), schema)\n",
    "```"
   ]
  },
  {
   "cell_type": "code",
   "execution_count": 5,
   "metadata": {
    "collapsed": true
   },
   "outputs": [],
   "source": [
    "songs = lines.map(parseLine).filter(lambda x: len(x) == len(schema))\n",
    "# Convert that to a DataFrame\n",
    "songDataset = spark.createDataFrame(songs,schema).cache()\n",
    "#df = spark.read.csv(\"data/all_play.log.fn\",header=False,schema=schema)           "
   ]
  },
  {
   "cell_type": "code",
   "execution_count": 6,
   "metadata": {},
   "outputs": [
    {
     "name": "stdout",
     "output_type": "stream",
     "text": [
      "+------------+------+---------+---------+--------------------+--------------------+---------+-----------+---------+------------------+\n",
      "|         uid|device|  song_id|song_type|           song_name|              singer|play_time|song_length|paid_flag|                fn|\n",
      "+------------+------+---------+---------+--------------------+--------------------+---------+-----------+---------+------------------+\n",
      "|1.54422688E8|   ar |20870993 |      1.0|                 用情 |              狮子合唱团 |   22013 |      332.0|      0.0| 20170301_play.log|\n",
      "|1.54421904E8|   ip | 6560858 |      0.0|             表情不要悲伤 |    伯贤&D.O.&张艺兴&朴灿烈 |      96 |      161.0|      0.0| 20170301_play.log|\n",
      "|1.54422624E8|   ar | 3385963 |      1.0|Baby, Don't Cry(人...|                EXO |  235868 |      235.0|      0.0| 20170301_play.log|\n",
      "|1.54410272E8|   ar | 6777172 |      0.0|   3D-环绕音律1(3D Mix) |             McTaiM |     164 |      237.0|      0.0| 20170301_play.log|\n",
      "|1.54407792E8|   ar |19472465 |      0.0|              刚好遇见你 |                曲肖冰 |      24 |      201.0|      0.0| 20170301_play.log|\n",
      "|1.54422624E8|   ar | 3198036 |      1.0|              只唱给你听 |            SpeXial |  275249 |        0.0|      0.0| 20170301_play.log|\n",
      "|1.54422688E8|   ar |  891952 |      0.0|   老男孩-(电影《老男孩》主题曲) |               筷子兄弟 |     300 |      300.0|      0.0| 20170301_play.log|\n",
      "|1.54408096E8|   ar | 4623962 |      0.0|             预谋 许佳慧 |               网络歌手 |     243 |      243.0|      0.0| 20170301_play.log|\n",
      "|1.54422576E8|   ar |  703750 |      0.0|            爸爸妈妈听我说 |               儿童歌曲 |     207 |      207.0|      0.0| 20170301_play.log|\n",
      "|1.54417312E8|   ar | 6491500 |      0.0|        Stereo Love |        Edward Maya |      56 |      184.0|      0.0| 20170301_play.log|\n",
      "|1.54421168E8|   ar | 1967689 |      0.0|    悟-(电影《新少林寺》主题曲) |                刘德华 |     139 |      275.0|      0.0| 20170301_play.log|\n",
      "|1.54421856E8|   ar | 6126586 |      0.0|        老情歌(27秒铃声版) |                 童丽 |       4 |       27.0|      0.0| 20170301_play.log|\n",
      "|1.54422656E8|   ar |11914644 |      0.0|                 温柔 |杨丞琳[一闪一闪亮晶晶的钻石女士]...|     299 |      300.0|      0.0| 20170301_play.log|\n",
      "|1.54422592E8|   ar | 6468891 |      0.0|                 演员 |                薛之谦 |     261 |      261.0|      0.0| 20170301_play.log|\n",
      "|1.54419568E8|   ar |15196649 |      0.0|            我太帅了万人爱 |               MC马克 |       8 |       65.0|      0.0| 20170301_play.log|\n",
      "|1.54414288E8|   ar | 7143177 |      0.0|超越无限-(电影《听·见 林俊杰》...|                林俊杰 |      26 |        0.0|      0.0| 20170301_play.log|\n",
      "|1.54422096E8|   ar |       0 |      1.0|           预谋dj 许佳慧 |听30音乐网首发Qq369849635 |       7 |      345.0|      0.0| 20170301_play.log|\n",
      "|1.54422448E8|   ip | 6247282 |      0.0|            假日(DJ版) |                罗百吉 |       1 |      277.0|      0.0| 20170301_play.log|\n",
      "|1.54412736E8|   ip | 4357368 |      0.0|英文(Dj,2012 超好听的英文...|               慢摇舞曲 |       4 |      271.0|      0.0| 20170301_play.log|\n",
      "|1.53985856E8|   ar | 6762438 |      0.0|         门铃声(1秒铃声版) |               手机铃声 |       1 |        1.0|      0.0| 20170301_play.log|\n",
      "+------------+------+---------+---------+--------------------+--------------------+---------+-----------+---------+------------------+\n",
      "only showing top 20 rows\n",
      "\n"
     ]
    }
   ],
   "source": [
    "songDataset.show()"
   ]
  },
  {
   "cell_type": "code",
   "execution_count": 48,
   "metadata": {},
   "outputs": [
    {
     "name": "stdout",
     "output_type": "stream",
     "text": [
      "+-------+--------------------+---------+--------------------+-------------------+---------+--------------------+-------------------+------------------+---------+--------------------+\n",
      "|summary|                 uid|   device|             song_id|          song_type|song_name|              singer|          play_time|       song_length|paid_flag|                  fn|\n",
      "+-------+--------------------+---------+--------------------+-------------------+---------+--------------------+-------------------+------------------+---------+--------------------+\n",
      "|  count|           164264529|164264529|           164264529|          164264529|164264529|           164264529|          164264529|         164264529|164264529|           164264529|\n",
      "|   mean|1.3238275802376163E8|     null|1.233773654943951...|0.14990355586749954| Infinity|2.069222247928341...| 204343.58310764717|-66.93764578220485|      0.0|                null|\n",
      "| stddev|6.4977108791913636E7|     null|3.724137957677398...| 0.3858627542831314|      NaN|1.842783835874818...|5.244159580504907E8|1066716.9038908319|      0.0|                null|\n",
      "|    min|                 0.0|         |                    |                0.0|         |                    |                   |     -2.14748365E9|      0.0|   20170301_play.log|\n",
      "|    max|         1.6926232E8|       wp|             9999985|                3.0|       🙄|          😝😝😝😝😝|               nan |      1.34396621E9|      0.0| 20170512_3_play.log|\n",
      "+-------+--------------------+---------+--------------------+-------------------+---------+--------------------+-------------------+------------------+---------+--------------------+\n",
      "\n"
     ]
    }
   ],
   "source": [
    "# the following command takes lots of time\n",
    "#songDataset.describe().show()"
   ]
  },
  {
   "cell_type": "code",
   "execution_count": 47,
   "metadata": {},
   "outputs": [
    {
     "data": {
      "text/plain": [
       "164264529"
      ]
     },
     "execution_count": 47,
     "metadata": {},
     "output_type": "execute_result"
    }
   ],
   "source": [
    "#songDataset.count()"
   ]
  },
  {
   "cell_type": "code",
   "execution_count": 51,
   "metadata": {},
   "outputs": [
    {
     "data": {
      "text/plain": [
       "164264529"
      ]
     },
     "execution_count": 51,
     "metadata": {},
     "output_type": "execute_result"
    }
   ],
   "source": [
    "songDataset.filter(songDataset.fn.isNotNull()).count()"
   ]
  },
  {
   "cell_type": "markdown",
   "metadata": {},
   "source": [
    "## Filter the abnormal users (e.g. robot)"
   ]
  },
  {
   "cell_type": "code",
   "execution_count": 9,
   "metadata": {
    "collapsed": true
   },
   "outputs": [],
   "source": [
    "uid_count = songDataset.groupBy('uid').count().orderBy('count', ascending = False).cache()#.show(truncate=False)"
   ]
  },
  {
   "cell_type": "code",
   "execution_count": 21,
   "metadata": {
    "collapsed": true
   },
   "outputs": [],
   "source": [
    "import matplotlib.pyplot as plt\n",
    "import numpy as np\n",
    "\n",
    "# the `histogram` function from the RDD api\n",
    "log_count_histogram = uid_count.select('count').rdd.flatMap(lambda x: np.log(x)).histogram(11)"
   ]
  },
  {
   "cell_type": "code",
   "execution_count": 23,
   "metadata": {
    "scrolled": true
   },
   "outputs": [
    {
     "data": {
      "image/png": "[encoded data removed]",
      "text/plain": [
       "<matplotlib.figure.Figure at 0x121db9da0>"
      ]
     },
     "metadata": {},
     "output_type": "display_data"
    }
   ],
   "source": [
    "# Loading the Computed Histogram into a Pandas Dataframe for plotting\n",
    "import pandas as pd\n",
    "import matplotlib.pyplot as mplt\n",
    "import matplotlib.ticker as mtick\n",
    "\n",
    "def plotHistogramData(data):\n",
    "    binSides, binCounts = data\n",
    "\n",
    "    N = len(binCounts)\n",
    "    ind = np.arange(N)\n",
    "    width = 1\n",
    "\n",
    "    fig, ax = mplt.subplots(figsize=(15,10))\n",
    "    rects1 = ax.bar(ind+0.5, binCounts, width, color='b')\n",
    "\n",
    "    ax.set_ylabel('Frequencies')\n",
    "    ax.set_title('Histogram')\n",
    "    ax.set_xticks(np.arange(N+1))\n",
    "    ax.set_xticklabels(binSides)\n",
    "    ax.xaxis.set_major_formatter(mtick.FormatStrFormatter('%.2e'))\n",
    "    ax.yaxis.set_major_formatter(mtick.FormatStrFormatter('%.2e'))\n",
    "\n",
    "    mplt.show()\n",
    "    \n",
    "\n",
    "plotHistogramData(log_count_histogram)"
   ]
  },
  {
   "cell_type": "code",
   "execution_count": 24,
   "metadata": {},
   "outputs": [
    {
     "data": {
      "text/plain": [
       "([0.0,\n",
       "  1.446398381011583,\n",
       "  2.892796762023166,\n",
       "  4.3391951430347486,\n",
       "  5.7855935240463321,\n",
       "  7.2319919050579156,\n",
       "  8.6783902860694973,\n",
       "  10.124788667081081,\n",
       "  11.571187048092664,\n",
       "  13.017585429104248,\n",
       "  14.463983810115831,\n",
       "  15.910382191127413],\n",
       " [4269, 5150, 9898, 29739, 63734, 28950, 895, 19, 6, 6, 6])"
      ]
     },
     "execution_count": 24,
     "metadata": {},
     "output_type": "execute_result"
    }
   ],
   "source": [
    "log_count_histogram"
   ]
  },
  {
   "cell_type": "code",
   "execution_count": 50,
   "metadata": {},
   "outputs": [
    {
     "name": "stdout",
     "output_type": "stream",
     "text": [
      "total number of unique users:  142672 \n",
      " approximate quantile is :  5874.58257879\n"
     ]
    }
   ],
   "source": [
    "print('total number of unique users: ', uid_count.count(),\n",
    "     '\\n approximate quantile is : ', np.exp(8.6783902860694973))"
   ]
  },
  {
   "cell_type": "code",
   "execution_count": 51,
   "metadata": {},
   "outputs": [
    {
     "data": {
      "text/plain": [
       "[2975.0]"
      ]
     },
     "execution_count": 51,
     "metadata": {},
     "output_type": "execute_result"
    }
   ],
   "source": [
    "# calculate the 90 percent quatile\n",
    "uid_count.approxQuantile(\"count\", [0.95], 0)"
   ]
  },
  {
   "cell_type": "markdown",
   "metadata": {},
   "source": [
    "### Generate valid user list"
   ]
  },
  {
   "cell_type": "code",
   "execution_count": 66,
   "metadata": {},
   "outputs": [
    {
     "name": "stdout",
     "output_type": "stream",
     "text": [
      "root\n",
      " |-- uid: float (nullable = false)\n",
      " |-- count: long (nullable = false)\n",
      "\n"
     ]
    }
   ],
   "source": [
    "uid_count.printSchema()\n",
    "valid_list = uid_count.filter( uid_count['count'] <= 2975.0).toPandas()"
   ]
  },
  {
   "cell_type": "code",
   "execution_count": 70,
   "metadata": {},
   "outputs": [
    {
     "name": "stdout",
     "output_type": "stream",
     "text": [
      "valid user number =  135549\n",
      "saving valid user id... \n"
     ]
    }
   ],
   "source": [
    "print('valid user number = ', valid_list.shape[0])\n",
    "print('saving valid user id... ')\n",
    "valid_list.to_csv('data/valid_user_id.csv', index=False)"
   ]
  },
  {
   "cell_type": "markdown",
   "metadata": {},
   "source": [
    "### Generate Filtered 'all_play_log\""
   ]
  },
  {
   "cell_type": "code",
   "execution_count": 6,
   "metadata": {
    "collapsed": true
   },
   "outputs": [],
   "source": [
    "#import pandas as pd\n",
    "#valid_list = pd.read_csv('data/valid_user_id.csv')\n",
    "u_list = list(valid_list.uid.values)\n",
    "filtered_all_play = songDataset.drop('song_type', 'song_name', 'singer', 'paid_flag').filter(songDataset['uid'].isin(u_list)).cache()"
   ]
  },
  {
   "cell_type": "code",
   "execution_count": 77,
   "metadata": {},
   "outputs": [
    {
     "data": {
      "text/plain": [
       "98396373"
      ]
     },
     "execution_count": 77,
     "metadata": {},
     "output_type": "execute_result"
    }
   ],
   "source": [
    "filtered_all_play.count()"
   ]
  },
  {
   "cell_type": "code",
   "execution_count": null,
   "metadata": {},
   "outputs": [
    {
     "name": "stdout",
     "output_type": "stream",
     "text": [
      "saving filtered all play log!\n"
     ]
    }
   ],
   "source": [
    "print('saving filtered all play log!')\n",
    "\n",
    "filtered_all_play.write.mode('append').json('data/filtered_all_play.json')\n",
    "#filtered_all_play.coalesce(1).write.csv(\"/data/filtered_all_play.csv\")"
   ]
  },
  {
   "cell_type": "code",
   "execution_count": null,
   "metadata": {
    "collapsed": true
   },
   "outputs": [],
   "source": [
    "spark.stop()"
   ]
  }
 ],
 "metadata": {
  "kernelspec": {
   "display_name": "Python 3",
   "language": "python",
   "name": "python3"
  },
  "language_info": {
   "codemirror_mode": {
    "name": "ipython",
    "version": 3
   },
   "file_extension": ".py",
   "mimetype": "text/x-python",
   "name": "python",
   "nbconvert_exporter": "python",
   "pygments_lexer": "ipython3",
   "version": "3.6.0"
  }
 },
 "nbformat": 4,
 "nbformat_minor": 2
}
