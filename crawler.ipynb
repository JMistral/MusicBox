{
 "cells": [
  {
   "cell_type": "code",
   "execution_count": 13,
   "metadata": {
    "collapsed": true
   },
   "outputs": [],
   "source": [
    "import requests\n",
    "import pandas as pd\n",
    "import xml.etree.ElementTree as ET\n",
    "from bs4 import BeautifulSoup"
   ]
  },
  {
   "cell_type": "markdown",
   "metadata": {},
   "source": [
    "_Delete the < ListBucket... > and replace it with < data >.....< /data > in the root node_"
   ]
  },
  {
   "cell_type": "code",
   "execution_count": 74,
   "metadata": {},
   "outputs": [],
   "source": [
    "import xml.etree.ElementTree as ET\n",
    "tree = ET.parse('page.xml')\n",
    "root = tree.getroot()\n",
    "file_name = []\n",
    "fn_list = []\n",
    "for Content in root.findall('Contents'):\n",
    "    key = Content.find('Key').text\n",
    "    file_name.append('https://bittigermusicplayerdata.s3-us-west-2.amazonaws.com/'+key)\n",
    "    fn_list.append(key)\n",
    "\n",
    "#r = requests.get(file_name[0], allow_redirects=True)\n",
    "#print(r.headers.get('content-type'))"
   ]
  },
  {
   "cell_type": "markdown",
   "metadata": {},
   "source": [
    "Downloading files"
   ]
  },
  {
   "cell_type": "code",
   "execution_count": 77,
   "metadata": {},
   "outputs": [],
   "source": [
    "for i, url in enumerate(file_name):\n",
    "    r = requests.get(url, allow_redirects=True)\n",
    "    open('data/'+fn_list[i], 'wb').write(r.content)"
   ]
  },
  {
   "cell_type": "markdown",
   "metadata": {},
   "source": [
    "```{shell}\n",
    "$ for file in *.tar.gz; do tar -zxf $file; done\n",
    "```"
   ]
  },
  {
   "cell_type": "code",
   "execution_count": null,
   "metadata": {
    "collapsed": true
   },
   "outputs": [],
   "source": []
  }
 ],
 "metadata": {
  "kernelspec": {
   "display_name": "Python 3",
   "language": "python",
   "name": "python3"
  },
  "language_info": {
   "codemirror_mode": {
    "name": "ipython",
    "version": 3
   },
   "file_extension": ".py",
   "mimetype": "text/x-python",
   "name": "python",
   "nbconvert_exporter": "python",
   "pygments_lexer": "ipython3",
   "version": "3.6.0"
  }
 },
 "nbformat": 4,
 "nbformat_minor": 2
}
